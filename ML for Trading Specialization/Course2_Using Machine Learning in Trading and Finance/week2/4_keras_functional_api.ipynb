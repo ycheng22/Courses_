{
 "cells": [
  {
   "cell_type": "markdown",
   "metadata": {},
   "source": [
    "# Introducing the Keras Functional API\n",
    "\n",
    "**Learning Objectives**\n",
    "  1. Understand embeddings and how to create them with the feature column API\n",
    "  1. Understand Deep and Wide models and when to use them\n",
    "  1. Understand the Keras functional API and how to build a deep and wide model with it\n",
    "\n",
    "## Introduction\n",
    "\n",
    "In the last notebook, we learned about the Keras Sequential API. The [Keras Functional API](https://www.tensorflow.org/guide/keras#functional_api) provides an alternate way of building models which is more flexible. With the Functional API, we can build models with more complex topologies, multiple input or output layers, shared layers or non-sequential data flows (e.g. residual layers).\n",
    "\n",
    "In this notebook we'll use what we learned about feature columns to build a Wide & Deep model. Recall, that the idea behind Wide & Deep models is to join the two methods of learning through memorization and generalization by making a wide linear model and a deep learning model to accommodate both. You can have a look at the original research paper here: [Wide & Deep Learning for Recommender Systems](https://arxiv.org/abs/1606.07792).\n",
    "\n",
    "<img src='assets/wide_deep.png' width='80%'>\n",
    "<sup>(image: https://ai.googleblog.com/2016/06/wide-deep-learning-better-together-with.html)</sup>\n",
    "\n",
    "The Wide part of the model is associated with the memory element. In this case, we train a linear model with a wide set of crossed features and learn the correlation of this related data with the assigned label. The Deep part of the model is associated with the generalization element where we use embedding vectors for features. The best embeddings are then learned through the training process. While both of these methods can work well alone, Wide & Deep models excel by combining these techniques together.\n",
    "\n",
    "Each learning objective will correspond to a __#TODO__  in this student lab notebook -- try to complete this notebook first and then review the [solution notebook](https://github.com/GoogleCloudPlatform/training-data-analyst/blob/master/courses/machine_learning/deepdive2/introduction_to_tensorflow/solutions/4_keras_functional_api.ipynb)\n"
   ]
  },
  {
   "cell_type": "code",
   "execution_count": 1,
   "metadata": {},
   "outputs": [],
   "source": [
    "# Use the chown command to change the ownership of the repository.\n",
    "!sudo chown -R jupyter:jupyter /home/jupyter/training-data-analyst"
   ]
  },
  {
   "cell_type": "code",
   "execution_count": 2,
   "metadata": {},
   "outputs": [
    {
     "name": "stdout",
     "output_type": "stream",
     "text": [
      "Collecting tensorflow==2.3\n",
      "  Downloading tensorflow-2.3.0-cp37-cp37m-manylinux2010_x86_64.whl (320.4 MB)\n",
      "\u001b[K     |████████████████████████████████| 320.4 MB 34 kB/s s eta 0:00:01\n",
      "\u001b[?25hRequirement already satisfied: six>=1.12.0 in /opt/conda/lib/python3.7/site-packages (from tensorflow==2.3) (1.15.0)\n",
      "Requirement already satisfied: h5py<2.11.0,>=2.10.0 in /opt/conda/lib/python3.7/site-packages (from tensorflow==2.3) (2.10.0)\n",
      "Requirement already satisfied: opt-einsum>=2.3.2 in /opt/conda/lib/python3.7/site-packages (from tensorflow==2.3) (3.3.0)\n",
      "Requirement already satisfied: protobuf>=3.9.2 in /opt/conda/lib/python3.7/site-packages (from tensorflow==2.3) (3.14.0)\n",
      "Requirement already satisfied: wrapt>=1.11.1 in /opt/conda/lib/python3.7/site-packages (from tensorflow==2.3) (1.12.1)\n",
      "Requirement already satisfied: keras-preprocessing<1.2,>=1.1.1 in /opt/conda/lib/python3.7/site-packages (from tensorflow==2.3) (1.1.2)\n",
      "Requirement already satisfied: google-pasta>=0.1.8 in /opt/conda/lib/python3.7/site-packages (from tensorflow==2.3) (0.2.0)\n",
      "Requirement already satisfied: astunparse==1.6.3 in /opt/conda/lib/python3.7/site-packages (from tensorflow==2.3) (1.6.3)\n",
      "Requirement already satisfied: tensorflow-estimator<2.4.0,>=2.3.0 in /opt/conda/lib/python3.7/site-packages (from tensorflow==2.3) (2.3.0)\n",
      "Collecting numpy<1.19.0,>=1.16.0\n",
      "  Downloading numpy-1.18.5-cp37-cp37m-manylinux1_x86_64.whl (20.1 MB)\n",
      "\u001b[K     |████████████████████████████████| 20.1 MB 56.8 MB/s eta 0:00:01\n",
      "\u001b[?25hRequirement already satisfied: absl-py>=0.7.0 in /opt/conda/lib/python3.7/site-packages (from tensorflow==2.3) (0.10.0)\n",
      "Requirement already satisfied: wheel>=0.26 in /opt/conda/lib/python3.7/site-packages (from tensorflow==2.3) (0.36.2)\n",
      "Collecting scipy==1.4.1\n",
      "  Downloading scipy-1.4.1-cp37-cp37m-manylinux1_x86_64.whl (26.1 MB)\n",
      "\u001b[K     |████████████████████████████████| 26.1 MB 62.3 MB/s eta 0:00:01\n",
      "\u001b[?25hRequirement already satisfied: gast==0.3.3 in /opt/conda/lib/python3.7/site-packages (from tensorflow==2.3) (0.3.3)\n",
      "Requirement already satisfied: termcolor>=1.1.0 in /opt/conda/lib/python3.7/site-packages (from tensorflow==2.3) (1.1.0)\n",
      "Requirement already satisfied: tensorboard<3,>=2.3.0 in /opt/conda/lib/python3.7/site-packages (from tensorflow==2.3) (2.3.0)\n",
      "Requirement already satisfied: grpcio>=1.8.6 in /opt/conda/lib/python3.7/site-packages (from tensorflow==2.3) (1.35.0)\n",
      "Requirement already satisfied: setuptools>=41.0.0 in /opt/conda/lib/python3.7/site-packages (from tensorboard<3,>=2.3.0->tensorflow==2.3) (53.0.0)\n",
      "Requirement already satisfied: markdown>=2.6.8 in /opt/conda/lib/python3.7/site-packages (from tensorboard<3,>=2.3.0->tensorflow==2.3) (3.3.3)\n",
      "Requirement already satisfied: werkzeug>=0.11.15 in /opt/conda/lib/python3.7/site-packages (from tensorboard<3,>=2.3.0->tensorflow==2.3) (1.0.1)\n",
      "Requirement already satisfied: google-auth<2,>=1.6.3 in /opt/conda/lib/python3.7/site-packages (from tensorboard<3,>=2.3.0->tensorflow==2.3) (1.24.0)\n",
      "Requirement already satisfied: tensorboard-plugin-wit>=1.6.0 in /opt/conda/lib/python3.7/site-packages (from tensorboard<3,>=2.3.0->tensorflow==2.3) (1.8.0)\n",
      "Requirement already satisfied: requests<3,>=2.21.0 in /opt/conda/lib/python3.7/site-packages (from tensorboard<3,>=2.3.0->tensorflow==2.3) (2.25.1)\n",
      "Requirement already satisfied: google-auth-oauthlib<0.5,>=0.4.1 in /opt/conda/lib/python3.7/site-packages (from tensorboard<3,>=2.3.0->tensorflow==2.3) (0.4.2)\n",
      "Requirement already satisfied: pyasn1-modules>=0.2.1 in /opt/conda/lib/python3.7/site-packages (from google-auth<2,>=1.6.3->tensorboard<3,>=2.3.0->tensorflow==2.3) (0.2.8)\n",
      "Requirement already satisfied: rsa<5,>=3.1.4 in /opt/conda/lib/python3.7/site-packages (from google-auth<2,>=1.6.3->tensorboard<3,>=2.3.0->tensorflow==2.3) (4.7)\n",
      "Requirement already satisfied: cachetools<5.0,>=2.0.0 in /opt/conda/lib/python3.7/site-packages (from google-auth<2,>=1.6.3->tensorboard<3,>=2.3.0->tensorflow==2.3) (4.2.1)\n",
      "Requirement already satisfied: requests-oauthlib>=0.7.0 in /opt/conda/lib/python3.7/site-packages (from google-auth-oauthlib<0.5,>=0.4.1->tensorboard<3,>=2.3.0->tensorflow==2.3) (1.3.0)\n",
      "Requirement already satisfied: importlib-metadata in /opt/conda/lib/python3.7/site-packages (from markdown>=2.6.8->tensorboard<3,>=2.3.0->tensorflow==2.3) (3.4.0)\n",
      "Requirement already satisfied: pyasn1<0.5.0,>=0.4.6 in /opt/conda/lib/python3.7/site-packages (from pyasn1-modules>=0.2.1->google-auth<2,>=1.6.3->tensorboard<3,>=2.3.0->tensorflow==2.3) (0.4.8)\n",
      "Requirement already satisfied: certifi>=2017.4.17 in /opt/conda/lib/python3.7/site-packages (from requests<3,>=2.21.0->tensorboard<3,>=2.3.0->tensorflow==2.3) (2020.12.5)\n",
      "Requirement already satisfied: idna<3,>=2.5 in /opt/conda/lib/python3.7/site-packages (from requests<3,>=2.21.0->tensorboard<3,>=2.3.0->tensorflow==2.3) (2.10)\n",
      "Requirement already satisfied: chardet<5,>=3.0.2 in /opt/conda/lib/python3.7/site-packages (from requests<3,>=2.21.0->tensorboard<3,>=2.3.0->tensorflow==2.3) (4.0.0)\n",
      "Requirement already satisfied: urllib3<1.27,>=1.21.1 in /opt/conda/lib/python3.7/site-packages (from requests<3,>=2.21.0->tensorboard<3,>=2.3.0->tensorflow==2.3) (1.26.3)\n",
      "Requirement already satisfied: oauthlib>=3.0.0 in /opt/conda/lib/python3.7/site-packages (from requests-oauthlib>=0.7.0->google-auth-oauthlib<0.5,>=0.4.1->tensorboard<3,>=2.3.0->tensorflow==2.3) (3.1.0)\n",
      "Requirement already satisfied: zipp>=0.5 in /opt/conda/lib/python3.7/site-packages (from importlib-metadata->markdown>=2.6.8->tensorboard<3,>=2.3.0->tensorflow==2.3) (3.4.0)\n",
      "Requirement already satisfied: typing-extensions>=3.6.4 in /opt/conda/lib/python3.7/site-packages (from importlib-metadata->markdown>=2.6.8->tensorboard<3,>=2.3.0->tensorflow==2.3) (3.7.4.3)\n",
      "Installing collected packages: numpy, scipy, tensorflow\n",
      "  Attempting uninstall: numpy\n",
      "    Found existing installation: numpy 1.19.5\n",
      "    Uninstalling numpy-1.19.5:\n",
      "      Successfully uninstalled numpy-1.19.5\n",
      "  Attempting uninstall: scipy\n",
      "    Found existing installation: scipy 1.6.0\n",
      "    Uninstalling scipy-1.6.0:\n",
      "      Successfully uninstalled scipy-1.6.0\n",
      "  Attempting uninstall: tensorflow\n",
      "    Found existing installation: tensorflow 2.3.2\n",
      "    Uninstalling tensorflow-2.3.2:\n",
      "      Successfully uninstalled tensorflow-2.3.2\n",
      "\u001b[31mERROR: pip's dependency resolver does not currently take into account all the packages that are installed. This behaviour is the source of the following dependency conflicts.\n",
      "tfx 0.26.1 requires kubernetes<12,>=10.0.1, but you have kubernetes 12.0.1 which is incompatible.\n",
      "tfx 0.26.1 requires pyarrow<0.18,>=0.17, but you have pyarrow 3.0.0 which is incompatible.\n",
      "tfx-bsl 0.26.1 requires pyarrow<0.18,>=0.17, but you have pyarrow 3.0.0 which is incompatible.\n",
      "tensorflow-transform 0.26.0 requires pyarrow<0.18,>=0.17, but you have pyarrow 3.0.0 which is incompatible.\n",
      "tensorflow-probability 0.11.0 requires cloudpickle==1.3, but you have cloudpickle 1.6.0 which is incompatible.\n",
      "tensorflow-model-analysis 0.26.0 requires pyarrow<0.18,>=0.17, but you have pyarrow 3.0.0 which is incompatible.\n",
      "tensorflow-data-validation 0.26.0 requires joblib<0.15,>=0.12, but you have joblib 1.0.0 which is incompatible.\n",
      "tensorflow-data-validation 0.26.0 requires pyarrow<0.18,>=0.17, but you have pyarrow 3.0.0 which is incompatible.\n",
      "pandas-profiling 2.8.0 requires visions[type_image_path]==0.4.4, but you have visions 0.7.0 which is incompatible.\n",
      "apache-beam 2.27.0 requires httplib2<0.18.0,>=0.8, but you have httplib2 0.18.1 which is incompatible.\n",
      "apache-beam 2.27.0 requires pyarrow<3.0.0,>=0.15.1, but you have pyarrow 3.0.0 which is incompatible.\u001b[0m\n",
      "Successfully installed numpy-1.18.5 scipy-1.4.1 tensorflow-2.3.0\n"
     ]
    }
   ],
   "source": [
    "# Ensure the right version of Tensorflow is installed.\n",
    "!pip freeze | grep tensorflow==2.3 || pip install tensorflow==2.3"
   ]
  },
  {
   "cell_type": "markdown",
   "metadata": {},
   "source": [
    "Kindly ignore the deprecation warnings and incompatibility errors."
   ]
  },
  {
   "cell_type": "markdown",
   "metadata": {},
   "source": [
    "Start by importing the necessary libraries for this lab."
   ]
  },
  {
   "cell_type": "code",
   "execution_count": 3,
   "metadata": {},
   "outputs": [
    {
     "name": "stdout",
     "output_type": "stream",
     "text": [
      "2.3.0\n"
     ]
    }
   ],
   "source": [
    "import datetime\n",
    "import os\n",
    "import shutil\n",
    "\n",
    "import numpy as np\n",
    "import pandas as pd\n",
    "import tensorflow as tf\n",
    "\n",
    "from matplotlib import pyplot as plt\n",
    "from tensorflow import keras\n",
    "\n",
    "from tensorflow import feature_column as fc\n",
    "\n",
    "from tensorflow.keras import Model\n",
    "from tensorflow.keras.layers import (\n",
    "    Input, Dense, DenseFeatures, concatenate)\n",
    "from tensorflow.keras.callbacks import TensorBoard\n",
    "\n",
    "print(tf.__version__)"
   ]
  },
  {
   "cell_type": "code",
   "execution_count": 4,
   "metadata": {},
   "outputs": [],
   "source": [
    "%matplotlib inline"
   ]
  },
  {
   "cell_type": "markdown",
   "metadata": {},
   "source": [
    "## Load raw data \n",
    "\n",
    "We will use the taxifare dataset, using the CSV files that we created in the first notebook of this sequence. Those files have been saved into `../data`."
   ]
  },
  {
   "cell_type": "code",
   "execution_count": 5,
   "metadata": {},
   "outputs": [
    {
     "name": "stdout",
     "output_type": "stream",
     "text": [
      "-rw-r--r-- 1 jupyter jupyter 123590 Feb 11 21:37 ../data/taxi-test.csv\n",
      "-rw-r--r-- 1 jupyter jupyter 579055 Feb 11 21:37 ../data/taxi-train.csv\n",
      "-rw-r--r-- 1 jupyter jupyter 123114 Feb 11 21:37 ../data/taxi-valid.csv\n"
     ]
    }
   ],
   "source": [
    "!ls -l ../data/*.csv"
   ]
  },
  {
   "cell_type": "markdown",
   "metadata": {},
   "source": [
    "## Use tf.data to read the CSV files\n",
    "\n",
    "We wrote these functions for reading data from the csv files above in the [previous notebook](2_dataset_api.ipynb). For this lab we will also include some additional engineered features in our model. In particular, we will compute the difference in latitude and longitude, as well as the Euclidean distance between the pick-up and drop-off locations. We can accomplish this by adding these new features to the features dictionary with the function `add_engineered_features` below. \n",
    "\n",
    "Note that we include a call to this function when collecting our features dict and labels in the `features_and_labels` function below as well. "
   ]
  },
  {
   "cell_type": "code",
   "execution_count": 6,
   "metadata": {},
   "outputs": [],
   "source": [
    "CSV_COLUMNS = [\n",
    "    'fare_amount',\n",
    "    'pickup_datetime',\n",
    "    'pickup_longitude',\n",
    "    'pickup_latitude',\n",
    "    'dropoff_longitude',\n",
    "    'dropoff_latitude',\n",
    "    'passenger_count',\n",
    "    'key'\n",
    "]\n",
    "LABEL_COLUMN = 'fare_amount'\n",
    "DEFAULTS = [[0.0], ['na'], [0.0], [0.0], [0.0], [0.0], [0.0], ['na']]\n",
    "UNWANTED_COLS = ['pickup_datetime', 'key']\n",
    "\n",
    "\n",
    "def features_and_labels(row_data):\n",
    "    label = row_data.pop(LABEL_COLUMN)\n",
    "    features = row_data\n",
    "        \n",
    "    for unwanted_col in UNWANTED_COLS:\n",
    "        features.pop(unwanted_col)\n",
    "\n",
    "    return features, label\n",
    "\n",
    "\n",
    "def create_dataset(pattern, batch_size=1, mode='eval'):\n",
    "    dataset = tf.data.experimental.make_csv_dataset(\n",
    "        pattern, batch_size, CSV_COLUMNS, DEFAULTS)\n",
    "\n",
    "    dataset = dataset.map(features_and_labels)\n",
    "    \n",
    "    if mode == 'train':\n",
    "        dataset = dataset.shuffle(buffer_size=1000).repeat()\n",
    "\n",
    "    # take advantage of multi-threading; 1=AUTOTUNE\n",
    "    dataset = dataset.prefetch(1)\n",
    "    return dataset"
   ]
  },
  {
   "cell_type": "markdown",
   "metadata": {},
   "source": [
    "## Feature columns for Wide and Deep model\n",
    "\n",
    "For the Wide columns, we will create feature columns of crossed features. To do this, we'll create a collection of Tensorflow feature columns to pass to the `tf.feature_column.crossed_column` constructor. The Deep columns will consist of numeric columns and the embedding columns we want to create. "
   ]
  },
  {
   "cell_type": "markdown",
   "metadata": {},
   "source": [
    "**Lab Task #1:** In the cell below, create feature columns for our wide-and-deep model. You'll need to build \n",
    "1. bucketized columns using [tf.feature_column.bucketized_column](https://www.tensorflow.org/api_docs/python/tf/feature_column/bucketized_column) for the pickup and dropoff latitude and longitude,\n",
    "2. crossed columns using [tf.feature_column.crossed_column](https://www.tensorflow.org/api_docs/python/tf/feature_column/crossed_column) for those bucketized columns, and \n",
    "3. embedding columns using [tf.feature_column.embedding_column](https://www.tensorflow.org/api_docs/python/tf/feature_column/embedding_column) for the crossed columns."
   ]
  },
  {
   "cell_type": "code",
   "execution_count": 7,
   "metadata": {},
   "outputs": [],
   "source": [
    "# TODO 1\n",
    "\n",
    "# 1. Bucketize latitudes and longitudes\n",
    "NBUCKETS = 16\n",
    "latbuckets = np.linspace(start=38.0, stop=42.0, num=NBUCKETS).tolist()\n",
    "lonbuckets = np.linspace(start=-76.0, stop=-72.0, num=NBUCKETS).tolist()\n",
    "\n",
    "fc_bucketized_plat = fc.bucketized_column(\n",
    "    source_column=fc.numeric_column(\"pickup_latitude\"), boundaries=latbuckets) # TODO: Your code goes here.\n",
    "fc_bucketized_plon = fc.bucketized_column(\n",
    "    source_column=fc.numeric_column(\"pickup_longitude\"), boundaries=lonbuckets)\n",
    "fc_bucketized_dlat = fc.bucketized_column(\n",
    "    source_column=fc.numeric_column(\"dropoff_latitude\"), boundaries=latbuckets)\n",
    "fc_bucketized_dlon = fc.bucketized_column(\n",
    "    source_column=fc.numeric_column(\"dropoff_longitude\"), boundaries=lonbuckets)\n",
    "# 2. Cross features for locations\n",
    "fc_crossed_dloc = fc.crossed_column([fc_bucketized_dlat, fc_bucketized_dlon], hash_bucket_size=NBUCKETS * NBUCKETS)\n",
    "fc_crossed_ploc = fc.crossed_column([fc_bucketized_plat, fc_bucketized_plon], hash_bucket_size=NBUCKETS * NBUCKETS)\n",
    "fc_crossed_pd_pair = fc.crossed_column([fc_crossed_dloc, fc_crossed_ploc], hash_bucket_size=NBUCKETS ** 4)\n",
    "\n",
    "# 3. Create embedding columns for the crossed columns\n",
    "fc_pd_pair = fc.embedding_column(categorical_column=fc_crossed_pd_pair, dimension=3)\n",
    "fc_dloc = fc.embedding_column(categorical_column=fc_crossed_dloc, dimension=3)\n",
    "fc_ploc = fc.embedding_column(categorical_column=fc_crossed_ploc, dimension=3)"
   ]
  },
  {
   "cell_type": "markdown",
   "metadata": {},
   "source": [
    "### Gather list of feature columns\n",
    "\n",
    "Next we gather the list of wide and deep feature columns we'll pass to our Wide & Deep model in Tensorflow. Recall, wide columns are sparse, have linear relationship with the output while continuous columns are deep, have a complex relationship with the output. We will use our previously bucketized columns to collect crossed feature columns and sparse feature columns for our wide columns, and embedding feature columns and numeric features columns for the deep columns."
   ]
  },
  {
   "cell_type": "markdown",
   "metadata": {},
   "source": [
    "**Lab Task #2:** Collect the wide and deep columns into two separate lists. You'll have two lists: One called `wide_columns` containing the one-hot encoded features from the crossed features and one called `deep_columns` which contains numeric and embedding feature columns."
   ]
  },
  {
   "cell_type": "code",
   "execution_count": 8,
   "metadata": {},
   "outputs": [],
   "source": [
    "# TODO 2\n",
    "wide_columns = [\n",
    "    # One-hot encoded feature crosses\n",
    "    # TODO: Your code goes here.\n",
    "    fc.indicator_column(fc_crossed_dloc),\n",
    "    fc.indicator_column(fc_crossed_ploc),\n",
    "    fc.indicator_column(fc_crossed_pd_pair)\n",
    "]\n",
    "\n",
    "deep_columns = [\n",
    "    # Embedding_column to \"group\" together ...\n",
    "    # TODO: Your code goes here.\n",
    "    fc.embedding_column(fc_crossed_pd_pair, dimension=10),\n",
    "\n",
    "    # Numeric columns\n",
    "    # TODO: Your code goes here.\n",
    "    fc.numeric_column(\"pickup_latitude\"),\n",
    "    fc.numeric_column(\"pickup_longitude\"),\n",
    "    fc.numeric_column(\"dropoff_longitude\"),\n",
    "    fc.numeric_column(\"dropoff_latitude\")\n",
    "]"
   ]
  },
  {
   "cell_type": "markdown",
   "metadata": {},
   "source": [
    "## Build a Wide and Deep model in Keras\n",
    "\n",
    "To build a wide-and-deep network, we connect the sparse (i.e. wide) features directly to the output node, but pass the dense (i.e. deep) features through a set of fully connected layers. Here’s that model architecture looks using the Functional API.\n",
    "\n",
    "First, we'll create our input columns using [tf.keras.layers.Input](https://www.tensorflow.org/versions/r2.0/api_docs/python/tf/keras/Input)."
   ]
  },
  {
   "cell_type": "code",
   "execution_count": 9,
   "metadata": {},
   "outputs": [],
   "source": [
    "INPUT_COLS = [\n",
    "    'pickup_longitude',\n",
    "    'pickup_latitude',\n",
    "    'dropoff_longitude',\n",
    "    'dropoff_latitude',\n",
    "    'passenger_count'\n",
    "]\n",
    "\n",
    "inputs = {colname : Input(name=colname, shape=(), dtype='float32')\n",
    "          for colname in INPUT_COLS\n",
    "}"
   ]
  },
  {
   "cell_type": "markdown",
   "metadata": {},
   "source": [
    "Then, we'll define our custom RMSE evaluation metric and build our wide and deep model."
   ]
  },
  {
   "cell_type": "markdown",
   "metadata": {},
   "source": [
    "**Lab Task #3:** Complete the code in the function `build_model` below so that it returns a compiled Keras model. The argument `dnn_hidden_units` should represent the number of units in each layer of your network. Use the Functional API to build a wide-and-deep model. Use the `deep_columns` you created above to build the deep layers and the `wide_columns` to create the wide layers. Once you have the wide and deep components, you will combine them to feed to a final fully connected layer. "
   ]
  },
  {
   "cell_type": "code",
   "execution_count": 10,
   "metadata": {},
   "outputs": [],
   "source": [
    "def rmse(y_true, y_pred):\n",
    "    return tf.sqrt(tf.reduce_mean(tf.square(y_pred - y_true)))\n",
    "\n",
    "# TODO 3\n",
    "def build_model(dnn_hidden_units):\n",
    "    # Create the deep part of model\n",
    "    deep = DenseFeatures(deep_columns, name='deep_inputs')(inputs)\n",
    "    for num_nodes in dnn_hidden_units:\n",
    "        deep = Dense(num_nodes, activation='relu')(deep) \n",
    "    \n",
    "    # Create the wide part of model\n",
    "    wide = DenseFeatures(wide_columns, name='wide_inputs')(inputs)\n",
    "\n",
    "    # Combine deep and wide parts of the model\n",
    "    combined = concatenate(inputs=[deep, wide], name='combined')\n",
    "\n",
    "    # Map the combined outputs into a single prediction value\n",
    "    output = Dense(units=1, activation=None, name='prediction')(combined)\n",
    "    \n",
    "    # Finalize the model\n",
    "    model = Model(inputs=list(inputs.values()), outputs=output)\n",
    "\n",
    "    # Compile the keras model\n",
    "    model.compile(optimizer=\"adam\", loss=\"mse\", metrics=[rmse, \"mse\"])\n",
    "    \n",
    "    return model"
   ]
  },
  {
   "cell_type": "markdown",
   "metadata": {},
   "source": [
    "Next, we can call the `build_model` to create the model. Here we'll have two hidden layers, each with 10 neurons, for the deep part of our model. We can also use `plot_model` to see a diagram of the model we've created."
   ]
  },
  {
   "cell_type": "code",
   "execution_count": 11,
   "metadata": {},
   "outputs": [
    {
     "data": {
      "image/png": "[encoded data removed]",
      "text/plain": [
       "<IPython.core.display.Image object>"
      ]
     },
     "execution_count": 11,
     "metadata": {},
     "output_type": "execute_result"
    }
   ],
   "source": [
    "HIDDEN_UNITS = [10,10]\n",
    "\n",
    "model = build_model(dnn_hidden_units=HIDDEN_UNITS)\n",
    "\n",
    "tf.keras.utils.plot_model(model, show_shapes=False, rankdir='LR')"
   ]
  },
  {
   "cell_type": "markdown",
   "metadata": {},
   "source": [
    "Next, we'll set up our training variables, create our datasets for training and validation, and train our model.\n",
    "\n",
    "(We refer you the the blog post [ML Design Pattern #3: Virtual Epochs](https://medium.com/google-cloud/ml-design-pattern-3-virtual-epochs-f842296de730) for further details on why express the training in terms of `NUM_TRAIN_EXAMPLES` and `NUM_EVALS` and why, in this training code, the number of epochs is really equal to the number of evaluations we perform.)"
   ]
  },
  {
   "cell_type": "code",
   "execution_count": 12,
   "metadata": {},
   "outputs": [],
   "source": [
    "BATCH_SIZE = 1000\n",
    "NUM_TRAIN_EXAMPLES = 10000 * 5  # training dataset will repeat, wrap around\n",
    "NUM_EVALS = 50  # how many times to evaluate\n",
    "NUM_EVAL_EXAMPLES = 10000  # enough to get a reasonable sample\n",
    "\n",
    "trainds = create_dataset(\n",
    "    pattern='../data/taxi-train*',\n",
    "    batch_size=BATCH_SIZE,\n",
    "    mode='train')\n",
    "\n",
    "evalds = create_dataset(\n",
    "    pattern='../data/taxi-valid*',\n",
    "    batch_size=BATCH_SIZE,\n",
    "    mode='eval').take(NUM_EVAL_EXAMPLES//1000)"
   ]
  },
  {
   "cell_type": "code",
   "execution_count": 13,
   "metadata": {},
   "outputs": [
    {
     "name": "stdout",
     "output_type": "stream",
     "text": [
      "Epoch 1/50\n",
      "1/1 [==============================] - 2s 2s/step - loss: 210.1378 - rmse: 14.4961 - mse: 210.1378 - val_loss: 234.3188 - val_rmse: 15.2924 - val_mse: 234.3188\n",
      "Epoch 2/50\n",
      "WARNING:tensorflow:From /opt/conda/lib/python3.7/site-packages/tensorflow/python/ops/summary_ops_v2.py:1277: stop (from tensorflow.python.eager.profiler) is deprecated and will be removed after 2020-07-01.\n",
      "Instructions for updating:\n",
      "use `tf.profiler.experimental.stop` instead.\n",
      "1/1 [==============================] - 2s 2s/step - loss: 204.7852 - rmse: 14.3103 - mse: 204.7852 - val_loss: 233.4251 - val_rmse: 15.2705 - val_mse: 233.4251\n",
      "Epoch 3/50\n",
      "1/1 [==============================] - 1s 1s/step - loss: 237.2924 - rmse: 15.4043 - mse: 237.2924 - val_loss: 230.0752 - val_rmse: 15.1635 - val_mse: 230.0752\n",
      "Epoch 4/50\n",
      "1/1 [==============================] - 2s 2s/step - loss: 211.1070 - rmse: 14.5295 - mse: 211.1070 - val_loss: 225.8528 - val_rmse: 15.0110 - val_mse: 225.8528\n",
      "Epoch 5/50\n",
      "1/1 [==============================] - 2s 2s/step - loss: 201.5193 - rmse: 14.1957 - mse: 201.5193 - val_loss: 224.5072 - val_rmse: 14.9813 - val_mse: 224.5072\n",
      "Epoch 6/50\n",
      "1/1 [==============================] - 1s 1s/step - loss: 197.1931 - rmse: 14.0425 - mse: 197.1931 - val_loss: 220.9572 - val_rmse: 14.8551 - val_mse: 220.9572\n",
      "Epoch 7/50\n",
      "1/1 [==============================] - 2s 2s/step - loss: 174.8423 - rmse: 13.2228 - mse: 174.8423 - val_loss: 221.5230 - val_rmse: 14.8813 - val_mse: 221.5230\n",
      "Epoch 8/50\n",
      "1/1 [==============================] - 2s 2s/step - loss: 183.9687 - rmse: 13.5635 - mse: 183.9687 - val_loss: 216.3368 - val_rmse: 14.6926 - val_mse: 216.3368\n",
      "Epoch 9/50\n",
      "1/1 [==============================] - 1s 1s/step - loss: 220.9254 - rmse: 14.8636 - mse: 220.9254 - val_loss: 215.6650 - val_rmse: 14.6775 - val_mse: 215.6650\n",
      "Epoch 10/50\n",
      "1/1 [==============================] - 1s 1s/step - loss: 189.7637 - rmse: 13.7755 - mse: 189.7637 - val_loss: 214.6436 - val_rmse: 14.6401 - val_mse: 214.6436\n",
      "Epoch 11/50\n",
      "1/1 [==============================] - 2s 2s/step - loss: 178.0751 - rmse: 13.3445 - mse: 178.0751 - val_loss: 213.4886 - val_rmse: 14.6055 - val_mse: 213.4886\n",
      "Epoch 12/50\n",
      "1/1 [==============================] - 1s 1s/step - loss: 168.7528 - rmse: 12.9905 - mse: 168.7528 - val_loss: 208.3433 - val_rmse: 14.4269 - val_mse: 208.3433\n",
      "Epoch 13/50\n",
      "1/1 [==============================] - 1s 1s/step - loss: 190.4378 - rmse: 13.7999 - mse: 190.4378 - val_loss: 206.4398 - val_rmse: 14.3568 - val_mse: 206.4398\n",
      "Epoch 14/50\n",
      "1/1 [==============================] - 2s 2s/step - loss: 157.8531 - rmse: 12.5640 - mse: 157.8531 - val_loss: 204.2832 - val_rmse: 14.2739 - val_mse: 204.2832\n",
      "Epoch 15/50\n",
      "1/1 [==============================] - 2s 2s/step - loss: 153.4181 - rmse: 12.3862 - mse: 153.4181 - val_loss: 201.8581 - val_rmse: 14.1956 - val_mse: 201.8581\n",
      "Epoch 16/50\n",
      "1/1 [==============================] - 1s 1s/step - loss: 164.2856 - rmse: 12.8174 - mse: 164.2856 - val_loss: 201.2055 - val_rmse: 14.1726 - val_mse: 201.2055\n",
      "Epoch 17/50\n",
      "1/1 [==============================] - 2s 2s/step - loss: 150.8345 - rmse: 12.2815 - mse: 150.8345 - val_loss: 196.7888 - val_rmse: 14.0040 - val_mse: 196.7888\n",
      "Epoch 18/50\n",
      "1/1 [==============================] - 2s 2s/step - loss: 156.0063 - rmse: 12.4902 - mse: 156.0063 - val_loss: 194.8918 - val_rmse: 13.9448 - val_mse: 194.8918\n",
      "Epoch 19/50\n",
      "1/1 [==============================] - 1s 1s/step - loss: 135.8968 - rmse: 11.6575 - mse: 135.8968 - val_loss: 192.2658 - val_rmse: 13.8541 - val_mse: 192.2658\n",
      "Epoch 20/50\n",
      "1/1 [==============================] - 1s 1s/step - loss: 208.1949 - rmse: 14.4290 - mse: 208.1949 - val_loss: 189.6160 - val_rmse: 13.7604 - val_mse: 189.6160\n",
      "Epoch 21/50\n",
      "1/1 [==============================] - 1s 1s/step - loss: 140.6810 - rmse: 11.8609 - mse: 140.6810 - val_loss: 185.7340 - val_rmse: 13.6231 - val_mse: 185.7340\n",
      "Epoch 22/50\n",
      "1/1 [==============================] - 1s 1s/step - loss: 155.2860 - rmse: 12.4614 - mse: 155.2860 - val_loss: 184.3392 - val_rmse: 13.5637 - val_mse: 184.3392\n",
      "Epoch 23/50\n",
      "1/1 [==============================] - 1s 1s/step - loss: 168.3146 - rmse: 12.9736 - mse: 168.3146 - val_loss: 181.9505 - val_rmse: 13.4721 - val_mse: 181.9505\n",
      "Epoch 24/50\n",
      "1/1 [==============================] - 1s 1s/step - loss: 188.1795 - rmse: 13.7179 - mse: 188.1795 - val_loss: 177.8979 - val_rmse: 13.3226 - val_mse: 177.8979\n",
      "Epoch 25/50\n",
      "1/1 [==============================] - 1s 1s/step - loss: 166.3790 - rmse: 12.8988 - mse: 166.3790 - val_loss: 175.2038 - val_rmse: 13.2057 - val_mse: 175.2038\n",
      "Epoch 26/50\n",
      "1/1 [==============================] - 1s 1s/step - loss: 137.1959 - rmse: 11.7131 - mse: 137.1959 - val_loss: 172.7209 - val_rmse: 13.1311 - val_mse: 172.7209\n",
      "Epoch 27/50\n",
      "1/1 [==============================] - 1s 1s/step - loss: 129.5727 - rmse: 11.3830 - mse: 129.5727 - val_loss: 168.9651 - val_rmse: 12.9747 - val_mse: 168.9651\n",
      "Epoch 28/50\n",
      "1/1 [==============================] - 1s 1s/step - loss: 139.0670 - rmse: 11.7927 - mse: 139.0670 - val_loss: 167.4780 - val_rmse: 12.9287 - val_mse: 167.4780\n",
      "Epoch 29/50\n",
      "1/1 [==============================] - 1s 1s/step - loss: 150.6300 - rmse: 12.2731 - mse: 150.6300 - val_loss: 163.9921 - val_rmse: 12.7956 - val_mse: 163.9921\n",
      "Epoch 30/50\n",
      "1/1 [==============================] - 1s 1s/step - loss: 138.6782 - rmse: 11.7762 - mse: 138.6782 - val_loss: 160.2688 - val_rmse: 12.6350 - val_mse: 160.2688\n",
      "Epoch 31/50\n",
      "1/1 [==============================] - 1s 1s/step - loss: 143.6345 - rmse: 11.9848 - mse: 143.6345 - val_loss: 160.5865 - val_rmse: 12.6559 - val_mse: 160.5865\n",
      "Epoch 32/50\n",
      "1/1 [==============================] - 1s 1s/step - loss: 146.2301 - rmse: 12.0926 - mse: 146.2301 - val_loss: 154.7966 - val_rmse: 12.4253 - val_mse: 154.7966\n",
      "Epoch 33/50\n",
      "1/1 [==============================] - 1s 1s/step - loss: 168.8056 - rmse: 12.9925 - mse: 168.8056 - val_loss: 152.8801 - val_rmse: 12.3341 - val_mse: 152.8801\n",
      "Epoch 34/50\n",
      "1/1 [==============================] - 1s 1s/step - loss: 109.2054 - rmse: 10.4501 - mse: 109.2054 - val_loss: 149.2895 - val_rmse: 12.1960 - val_mse: 149.2895\n",
      "Epoch 35/50\n",
      "1/1 [==============================] - 1s 1s/step - loss: 123.2778 - rmse: 11.1031 - mse: 123.2778 - val_loss: 148.1767 - val_rmse: 12.1530 - val_mse: 148.1767\n",
      "Epoch 36/50\n",
      "1/1 [==============================] - 1s 1s/step - loss: 122.3590 - rmse: 11.0616 - mse: 122.3590 - val_loss: 144.0192 - val_rmse: 11.9808 - val_mse: 144.0192\n",
      "Epoch 37/50\n",
      "1/1 [==============================] - 1s 1s/step - loss: 126.7661 - rmse: 11.2590 - mse: 126.7661 - val_loss: 140.9985 - val_rmse: 11.8632 - val_mse: 140.9985\n",
      "Epoch 38/50\n",
      "1/1 [==============================] - 1s 1s/step - loss: 133.2451 - rmse: 11.5432 - mse: 133.2451 - val_loss: 142.9574 - val_rmse: 11.9454 - val_mse: 142.9574\n",
      "Epoch 39/50\n",
      "1/1 [==============================] - 1s 1s/step - loss: 122.5513 - rmse: 11.0703 - mse: 122.5513 - val_loss: 135.6391 - val_rmse: 11.6301 - val_mse: 135.6391\n",
      "Epoch 40/50\n",
      "1/1 [==============================] - 1s 1s/step - loss: 133.1419 - rmse: 11.5387 - mse: 133.1419 - val_loss: 134.5430 - val_rmse: 11.5718 - val_mse: 134.5430\n",
      "Epoch 41/50\n",
      "1/1 [==============================] - 2s 2s/step - loss: 96.8516 - rmse: 9.8413 - mse: 96.8516 - val_loss: 132.7123 - val_rmse: 11.5087 - val_mse: 132.7123\n",
      "Epoch 42/50\n",
      "1/1 [==============================] - 1s 1s/step - loss: 123.1240 - rmse: 11.0961 - mse: 123.1240 - val_loss: 130.5960 - val_rmse: 11.4135 - val_mse: 130.5960\n",
      "Epoch 43/50\n",
      "1/1 [==============================] - 1s 1s/step - loss: 112.5396 - rmse: 10.6085 - mse: 112.5396 - val_loss: 128.6959 - val_rmse: 11.3248 - val_mse: 128.6959\n",
      "Epoch 44/50\n",
      "1/1 [==============================] - 1s 1s/step - loss: 75.3725 - rmse: 8.6817 - mse: 75.3725 - val_loss: 126.6898 - val_rmse: 11.2353 - val_mse: 126.6898\n",
      "Epoch 45/50\n",
      "1/1 [==============================] - 1s 1s/step - loss: 100.3699 - rmse: 10.0185 - mse: 100.3699 - val_loss: 124.6158 - val_rmse: 11.1451 - val_mse: 124.6158\n",
      "Epoch 46/50\n",
      "1/1 [==============================] - 1s 1s/step - loss: 115.6289 - rmse: 10.7531 - mse: 115.6289 - val_loss: 120.5184 - val_rmse: 10.9699 - val_mse: 120.5184\n",
      "Epoch 47/50\n",
      "1/1 [==============================] - 1s 1s/step - loss: 98.3250 - rmse: 9.9159 - mse: 98.3250 - val_loss: 121.5009 - val_rmse: 11.0091 - val_mse: 121.5009\n",
      "Epoch 48/50\n",
      "1/1 [==============================] - 1s 1s/step - loss: 97.3446 - rmse: 9.8663 - mse: 97.3446 - val_loss: 119.8879 - val_rmse: 10.9446 - val_mse: 119.8879\n",
      "Epoch 49/50\n",
      "1/1 [==============================] - 1s 1s/step - loss: 98.8912 - rmse: 9.9444 - mse: 98.8912 - val_loss: 119.0328 - val_rmse: 10.8578 - val_mse: 119.0328\n",
      "Epoch 50/50\n",
      "1/1 [==============================] - 1s 1s/step - loss: 115.8811 - rmse: 10.7648 - mse: 115.8811 - val_loss: 115.1676 - val_rmse: 10.7250 - val_mse: 115.1676\n",
      "CPU times: user 2min 59s, sys: 2min 10s, total: 5min 9s\n",
      "Wall time: 1min 41s\n"
     ]
    }
   ],
   "source": [
    "%%time\n",
    "steps_per_epoch = NUM_TRAIN_EXAMPLES // (BATCH_SIZE * NUM_EVALS)\n",
    "\n",
    "OUTDIR = \"./taxi_trained\"\n",
    "shutil.rmtree(path=OUTDIR, ignore_errors=True) # start fresh each time\n",
    "\n",
    "history = model.fit(x=trainds,\n",
    "                    steps_per_epoch=steps_per_epoch,\n",
    "                    epochs=NUM_EVALS,\n",
    "                    validation_data=evalds,\n",
    "                    callbacks=[TensorBoard(OUTDIR)])"
   ]
  },
  {
   "cell_type": "markdown",
   "metadata": {},
   "source": [
    "Just as before, we can examine the history to see how the RMSE changes through training on the train set and validation set. "
   ]
  },
  {
   "cell_type": "code",
   "execution_count": 14,
   "metadata": {},
   "outputs": [
    {
     "data": {
      "text/plain": [
       "<AxesSubplot:>"
      ]
     },
     "execution_count": 14,
     "metadata": {},
     "output_type": "execute_result"
    },
    {
     "data": {
      "image/png": "[encoded data removed]",
      "text/plain": [
       "<Figure size 432x288 with 1 Axes>"
      ]
     },
     "metadata": {
      "needs_background": "light"
     },
     "output_type": "display_data"
    }
   ],
   "source": [
    "RMSE_COLS = ['rmse', 'val_rmse']\n",
    "\n",
    "pd.DataFrame(history.history)[RMSE_COLS].plot()"
   ]
  },
  {
   "cell_type": "markdown",
   "metadata": {},
   "source": [
    "Copyright 2019 Google Inc. Licensed under the Apache License, Version 2.0 (the \"License\"); you may not use this file except in compliance with the License. You may obtain a copy of the License at http://www.apache.org/licenses/LICENSE-2.0 Unless required by applicable law or agreed to in writing, software distributed under the License is distributed on an \"AS IS\" BASIS, WITHOUT WARRANTIES OR CONDITIONS OF ANY KIND, either express or implied. See the License for the specific language governing permissions and limitations under the License"
   ]
  }
 ],
 "metadata": {
  "environment": {
   "name": "tf2-gpu.2-3.mnightly-2021-02-02-debian-10-test",
   "type": "gcloud",
   "uri": "gcr.io/deeplearning-platform-release/tf2-gpu.2-3:mnightly-2021-02-02-debian-10-test"
  },
  "kernelspec": {
   "display_name": "Python 3",
   "language": "python",
   "name": "python3"
  },
  "language_info": {
   "codemirror_mode": {
    "name": "ipython",
    "version": 3
   },
   "file_extension": ".py",
   "mimetype": "text/x-python",
   "name": "python",
   "nbconvert_exporter": "python",
   "pygments_lexer": "ipython3",
   "version": "3.7.9"
  }
 },
 "nbformat": 4,
 "nbformat_minor": 4
}
