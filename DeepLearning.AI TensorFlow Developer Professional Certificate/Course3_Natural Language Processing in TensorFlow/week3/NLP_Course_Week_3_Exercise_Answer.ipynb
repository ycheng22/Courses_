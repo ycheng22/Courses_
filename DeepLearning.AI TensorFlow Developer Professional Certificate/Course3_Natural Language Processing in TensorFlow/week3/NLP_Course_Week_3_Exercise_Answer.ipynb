{
  "nbformat": 4,
  "nbformat_minor": 0,
  "metadata": {
    "accelerator": "GPU",
    "colab": {
      "name": "NLP Course - Week 3 Exercise Answer.ipynb",
      "provenance": [],
      "toc_visible": true
    },
    "kernelspec": {
      "display_name": "Python 3",
      "language": "python",
      "name": "python3"
    },
    "language_info": {
      "codemirror_mode": {
        "name": "ipython",
        "version": 3
      },
      "file_extension": ".py",
      "mimetype": "text/x-python",
      "name": "python",
      "nbconvert_exporter": "python",
      "pygments_lexer": "ipython3",
      "version": "3.7.6"
    }
  },
  "cells": [
    {
      "cell_type": "code",
      "metadata": {
        "id": "zX4Kg8DUTKWO"
      },
      "source": [
        "#@title Licensed under the Apache License, Version 2.0 (the \"License\");\n",
        "# you may not use this file except in compliance with the License.\n",
        "# You may obtain a copy of the License at\n",
        "#\n",
        "# https://www.apache.org/licenses/LICENSE-2.0\n",
        "#\n",
        "# Unless required by applicable law or agreed to in writing, software\n",
        "# distributed under the License is distributed on an \"AS IS\" BASIS,\n",
        "# WITHOUT WARRANTIES OR CONDITIONS OF ANY KIND, either express or implied.\n",
        "# See the License for the specific language governing permissions and\n",
        "# limitations under the License."
      ],
      "execution_count": null,
      "outputs": []
    },
    {
      "cell_type": "markdown",
      "metadata": {
        "id": "R1CYieu5aLvs"
      },
      "source": [
        "<a href=\"https://colab.research.google.com/github/lmoroney/dlaicourse/blob/master/TensorFlow%20In%20Practice/Course%203%20-%20NLP/NLP%20Course%20-%20Week%203%20Exercise%20Answer.ipynb\" target=\"_parent\"><img src=\"https://colab.research.google.com/assets/colab-badge.svg\" alt=\"Open In Colab\"/></a>"
      ]
    },
    {
      "cell_type": "code",
      "metadata": {
        "id": "hmA6EzkQJ5jt"
      },
      "source": [
        "import json\n",
        "import tensorflow as tf\n",
        "import csv\n",
        "import random\n",
        "import numpy as np\n",
        "\n",
        "from tensorflow.keras.preprocessing.text import Tokenizer\n",
        "from tensorflow.keras.preprocessing.sequence import pad_sequences\n",
        "from tensorflow.keras.utils import to_categorical\n",
        "from tensorflow.keras import regularizers\n",
        "\n",
        "\n",
        "embedding_dim = 100\n",
        "max_length = 16\n",
        "trunc_type='post'\n",
        "padding_type='post'\n",
        "oov_tok = \"<OOV>\"\n",
        "training_size=160000\n",
        "test_portion=.1\n",
        "\n",
        "corpus = []\n"
      ],
      "execution_count": 1,
      "outputs": []
    },
    {
      "cell_type": "code",
      "metadata": {
        "id": "bM0l_dORKqE0",
        "outputId": "5e74f8c0-50ea-4b04-9fe3-dd5406166a44",
        "colab": {
          "base_uri": "https://localhost:8080/"
        }
      },
      "source": [
        "# Note that I cleaned the Stanford dataset to remove LATIN1 encoding to make it easier for Python CSV reader\n",
        "# You can do that yourself with:\n",
        "# iconv -f LATIN1 -t UTF8 training.1600000.processed.noemoticon.csv -o training_cleaned.csv\n",
        "# I then hosted it on my site to make it easier to use in this notebook\n",
        "\n",
        "!wget --no-check-certificate \\\n",
        "    https://storage.googleapis.com/laurencemoroney-blog.appspot.com/training_cleaned.csv \\\n",
        "    -O /tmp/training_cleaned.csv\n",
        "\n",
        "num_sentences = 0\n",
        "\n",
        "with open(\"/tmp/training_cleaned.csv\") as csvfile:\n",
        "    reader = csv.reader(csvfile, delimiter=',')\n",
        "    for row in reader:\n",
        "        list_item=[]\n",
        "        list_item.append(row[5])\n",
        "        this_label=row[0]\n",
        "        if this_label=='0':\n",
        "            list_item.append(0)\n",
        "        else:\n",
        "            list_item.append(1)\n",
        "        num_sentences = num_sentences + 1\n",
        "        corpus.append(list_item)\n"
      ],
      "execution_count": 7,
      "outputs": [
        {
          "output_type": "stream",
          "text": [
            "--2020-11-05 22:01:46--  https://storage.googleapis.com/laurencemoroney-blog.appspot.com/training_cleaned.csv\n",
            "Resolving storage.googleapis.com (storage.googleapis.com)... 74.125.142.128, 74.125.20.128, 74.125.197.128, ...\n",
            "Connecting to storage.googleapis.com (storage.googleapis.com)|74.125.142.128|:443... connected.\n",
            "HTTP request sent, awaiting response... 200 OK\n",
            "Length: 238942690 (228M) [application/octet-stream]\n",
            "Saving to: ‘/tmp/training_cleaned.csv’\n",
            "\n",
            "/tmp/training_clean 100%[===================>] 227.87M   178MB/s    in 1.3s    \n",
            "\n",
            "2020-11-05 22:01:47 (178 MB/s) - ‘/tmp/training_cleaned.csv’ saved [238942690/238942690]\n",
            "\n"
          ],
          "name": "stdout"
        }
      ]
    },
    {
      "cell_type": "code",
      "metadata": {
        "id": "0z0rvBkQbaHG",
        "outputId": "f6332492-0814-4ee8-b53f-961fa7ad6251",
        "colab": {
          "base_uri": "https://localhost:8080/"
        }
      },
      "source": [
        "type(reader)"
      ],
      "execution_count": 6,
      "outputs": [
        {
          "output_type": "execute_result",
          "data": {
            "text/plain": [
              "_csv.reader"
            ]
          },
          "metadata": {
            "tags": []
          },
          "execution_count": 6
        }
      ]
    },
    {
      "cell_type": "code",
      "metadata": {
        "id": "3kxblBUjEUX-",
        "outputId": "a32606f9-4094-4e84-bcba-1695f3e96a0b",
        "colab": {
          "base_uri": "https://localhost:8080/"
        }
      },
      "source": [
        "print(num_sentences)\n",
        "print(len(corpus))\n",
        "print(corpus[1])\n",
        "\n",
        "# Expected Output:\n",
        "# 1600000\n",
        "# 1600000\n",
        "# [\"is upset that he can't update his Facebook by texting it... and might cry as a result  School today also. Blah!\", 0]"
      ],
      "execution_count": 3,
      "outputs": [
        {
          "output_type": "stream",
          "text": [
            "1600000\n",
            "1600000\n",
            "[\"is upset that he can't update his Facebook by texting it... and might cry as a result  School today also. Blah!\", 0]\n"
          ],
          "name": "stdout"
        }
      ]
    },
    {
      "cell_type": "code",
      "metadata": {
        "id": "ohOGz24lsNAD"
      },
      "source": [
        "sentences=[]\n",
        "labels=[]\n",
        "random.shuffle(corpus)\n",
        "for x in range(training_size):\n",
        "    sentences.append(corpus[x][0])\n",
        "    labels.append(corpus[x][1])\n",
        "\n",
        "\n",
        "tokenizer = Tokenizer()\n",
        "tokenizer.fit_on_texts(sentences)\n",
        "\n",
        "word_index = tokenizer.word_index\n",
        "vocab_size=len(word_index)\n",
        "\n",
        "sequences = tokenizer.texts_to_sequences(sentences)\n",
        "padded = pad_sequences(sequences, maxlen=max_length, padding=padding_type, truncating=trunc_type)\n",
        "\n",
        "split = int(test_portion * training_size)\n",
        "\n",
        "test_sequences = padded[0:split]\n",
        "training_sequences = padded[split:training_size]\n",
        "test_labels = labels[0:split]\n",
        "training_labels = labels[split:training_size]"
      ],
      "execution_count": 8,
      "outputs": []
    },
    {
      "cell_type": "code",
      "metadata": {
        "id": "gIrtRem1En3N",
        "outputId": "a124104f-f85b-46dc-dc66-11816d3b1c7a",
        "colab": {
          "base_uri": "https://localhost:8080/"
        }
      },
      "source": [
        "print(vocab_size)\n",
        "print(word_index['i'])\n",
        "# Expected Output\n",
        "# 138858\n",
        "# 1"
      ],
      "execution_count": 9,
      "outputs": [
        {
          "output_type": "stream",
          "text": [
            "135419\n",
            "1\n"
          ],
          "name": "stdout"
        }
      ]
    },
    {
      "cell_type": "code",
      "metadata": {
        "id": "C1zdgJkusRh0",
        "outputId": "373eb2e0-a7b4-431c-df21-c2b78fd4e229",
        "colab": {
          "base_uri": "https://localhost:8080/"
        }
      },
      "source": [
        "# Note this is the 100 dimension version of GloVe from Stanford\n",
        "# I unzipped and hosted it on my site to make this notebook easier\n",
        "!wget --no-check-certificate \\\n",
        "    https://storage.googleapis.com/laurencemoroney-blog.appspot.com/glove.6B.100d.txt \\\n",
        "    -O /tmp/glove.6B.100d.txt\n",
        "embeddings_index = {};\n",
        "with open('/tmp/glove.6B.100d.txt') as f:\n",
        "    for line in f:\n",
        "        values = line.split();\n",
        "        word = values[0];\n",
        "        coefs = np.asarray(values[1:], dtype='float32');\n",
        "        embeddings_index[word] = coefs;\n",
        "\n",
        "embeddings_matrix = np.zeros((vocab_size+1, embedding_dim));\n",
        "for word, i in word_index.items():\n",
        "    embedding_vector = embeddings_index.get(word);\n",
        "    if embedding_vector is not None:\n",
        "        embeddings_matrix[i] = embedding_vector;"
      ],
      "execution_count": 10,
      "outputs": [
        {
          "output_type": "stream",
          "text": [
            "--2020-11-05 22:06:48--  https://storage.googleapis.com/laurencemoroney-blog.appspot.com/glove.6B.100d.txt\n",
            "Resolving storage.googleapis.com (storage.googleapis.com)... 74.125.195.128, 74.125.142.128, 74.125.20.128, ...\n",
            "Connecting to storage.googleapis.com (storage.googleapis.com)|74.125.195.128|:443... connected.\n",
            "HTTP request sent, awaiting response... 200 OK\n",
            "Length: 347116733 (331M) [text/plain]\n",
            "Saving to: ‘/tmp/glove.6B.100d.txt’\n",
            "\n",
            "/tmp/glove.6B.100d. 100%[===================>] 331.04M   238MB/s    in 1.4s    \n",
            "\n",
            "2020-11-05 22:06:49 (238 MB/s) - ‘/tmp/glove.6B.100d.txt’ saved [347116733/347116733]\n",
            "\n"
          ],
          "name": "stdout"
        }
      ]
    },
    {
      "cell_type": "code",
      "metadata": {
        "id": "71NLk_lpFLNt",
        "outputId": "19dbf653-c777-4693-9776-57d6cc473743",
        "colab": {
          "base_uri": "https://localhost:8080/"
        }
      },
      "source": [
        "print(len(embeddings_matrix))\n",
        "# Expected Output\n",
        "# 138859"
      ],
      "execution_count": 11,
      "outputs": [
        {
          "output_type": "stream",
          "text": [
            "135420\n"
          ],
          "name": "stdout"
        }
      ]
    },
    {
      "cell_type": "code",
      "metadata": {
        "id": "iKKvbuEBOGFz",
        "outputId": "e4c84953-2780-4ef9-aeb5-23aea9cda170",
        "colab": {
          "base_uri": "https://localhost:8080/"
        }
      },
      "source": [
        "model = tf.keras.Sequential([\n",
        "    tf.keras.layers.Embedding(vocab_size+1, embedding_dim, input_length=max_length, weights=[embeddings_matrix], trainable=False),\n",
        "    tf.keras.layers.Dropout(0.2),\n",
        "    tf.keras.layers.Conv1D(64, 5, activation='relu'),\n",
        "    tf.keras.layers.MaxPooling1D(pool_size=4),\n",
        "    tf.keras.layers.LSTM(64),\n",
        "    tf.keras.layers.Dense(1, activation='sigmoid')\n",
        "])\n",
        "model.compile(loss='binary_crossentropy',optimizer='adam',metrics=['accuracy'])\n",
        "model.summary()\n",
        "\n",
        "num_epochs = 50\n",
        "\n",
        "training_padded = np.array(training_sequences)\n",
        "training_labels = np.array(training_labels)\n",
        "testing_padded = np.array(test_sequences)\n",
        "testing_labels = np.array(test_labels)\n",
        "\n",
        "history = model.fit(training_padded, training_labels, epochs=num_epochs, validation_data=(testing_padded, testing_labels), verbose=2)\n",
        "\n",
        "print(\"Training Complete\")"
      ],
      "execution_count": 12,
      "outputs": [
        {
          "output_type": "stream",
          "text": [
            "Model: \"sequential\"\n",
            "_________________________________________________________________\n",
            "Layer (type)                 Output Shape              Param #   \n",
            "=================================================================\n",
            "embedding (Embedding)        (None, 16, 100)           13542000  \n",
            "_________________________________________________________________\n",
            "dropout (Dropout)            (None, 16, 100)           0         \n",
            "_________________________________________________________________\n",
            "conv1d (Conv1D)              (None, 12, 64)            32064     \n",
            "_________________________________________________________________\n",
            "max_pooling1d (MaxPooling1D) (None, 3, 64)             0         \n",
            "_________________________________________________________________\n",
            "lstm (LSTM)                  (None, 64)                33024     \n",
            "_________________________________________________________________\n",
            "dense (Dense)                (None, 1)                 65        \n",
            "=================================================================\n",
            "Total params: 13,607,153\n",
            "Trainable params: 65,153\n",
            "Non-trainable params: 13,542,000\n",
            "_________________________________________________________________\n",
            "Epoch 1/50\n",
            "4500/4500 - 15s - loss: 0.5684 - accuracy: 0.6993 - val_loss: 0.5257 - val_accuracy: 0.7330\n",
            "Epoch 2/50\n",
            "4500/4500 - 15s - loss: 0.5270 - accuracy: 0.7322 - val_loss: 0.5154 - val_accuracy: 0.7429\n",
            "Epoch 3/50\n",
            "4500/4500 - 15s - loss: 0.5098 - accuracy: 0.7450 - val_loss: 0.5101 - val_accuracy: 0.7452\n",
            "Epoch 4/50\n",
            "4500/4500 - 15s - loss: 0.4989 - accuracy: 0.7531 - val_loss: 0.5248 - val_accuracy: 0.7346\n",
            "Epoch 5/50\n",
            "4500/4500 - 15s - loss: 0.4888 - accuracy: 0.7582 - val_loss: 0.5127 - val_accuracy: 0.7416\n",
            "Epoch 6/50\n",
            "4500/4500 - 15s - loss: 0.4815 - accuracy: 0.7643 - val_loss: 0.5022 - val_accuracy: 0.7487\n",
            "Epoch 7/50\n",
            "4500/4500 - 15s - loss: 0.4756 - accuracy: 0.7673 - val_loss: 0.5030 - val_accuracy: 0.7504\n",
            "Epoch 8/50\n",
            "4500/4500 - 15s - loss: 0.4706 - accuracy: 0.7703 - val_loss: 0.5064 - val_accuracy: 0.7509\n",
            "Epoch 9/50\n",
            "4500/4500 - 15s - loss: 0.4674 - accuracy: 0.7735 - val_loss: 0.5048 - val_accuracy: 0.7535\n",
            "Epoch 10/50\n",
            "4500/4500 - 15s - loss: 0.4626 - accuracy: 0.7765 - val_loss: 0.5115 - val_accuracy: 0.7441\n",
            "Epoch 11/50\n",
            "4500/4500 - 15s - loss: 0.4582 - accuracy: 0.7783 - val_loss: 0.5057 - val_accuracy: 0.7496\n",
            "Epoch 12/50\n",
            "4500/4500 - 15s - loss: 0.4562 - accuracy: 0.7795 - val_loss: 0.5104 - val_accuracy: 0.7508\n",
            "Epoch 13/50\n",
            "4500/4500 - 15s - loss: 0.4515 - accuracy: 0.7817 - val_loss: 0.5069 - val_accuracy: 0.7484\n",
            "Epoch 14/50\n",
            "4500/4500 - 15s - loss: 0.4491 - accuracy: 0.7840 - val_loss: 0.5086 - val_accuracy: 0.7501\n",
            "Epoch 15/50\n",
            "4500/4500 - 17s - loss: 0.4479 - accuracy: 0.7843 - val_loss: 0.5145 - val_accuracy: 0.7489\n",
            "Epoch 16/50\n",
            "4500/4500 - 16s - loss: 0.4448 - accuracy: 0.7868 - val_loss: 0.5080 - val_accuracy: 0.7515\n",
            "Epoch 17/50\n",
            "4500/4500 - 16s - loss: 0.4440 - accuracy: 0.7872 - val_loss: 0.5097 - val_accuracy: 0.7512\n",
            "Epoch 18/50\n",
            "4500/4500 - 15s - loss: 0.4431 - accuracy: 0.7873 - val_loss: 0.5117 - val_accuracy: 0.7517\n",
            "Epoch 19/50\n",
            "4500/4500 - 16s - loss: 0.4406 - accuracy: 0.7897 - val_loss: 0.5083 - val_accuracy: 0.7502\n",
            "Epoch 20/50\n",
            "4500/4500 - 15s - loss: 0.4389 - accuracy: 0.7897 - val_loss: 0.5133 - val_accuracy: 0.7509\n",
            "Epoch 21/50\n",
            "4500/4500 - 15s - loss: 0.4388 - accuracy: 0.7903 - val_loss: 0.5113 - val_accuracy: 0.7502\n",
            "Epoch 22/50\n",
            "4500/4500 - 15s - loss: 0.4371 - accuracy: 0.7907 - val_loss: 0.5156 - val_accuracy: 0.7521\n",
            "Epoch 23/50\n",
            "4500/4500 - 15s - loss: 0.4356 - accuracy: 0.7915 - val_loss: 0.5153 - val_accuracy: 0.7492\n",
            "Epoch 24/50\n",
            "4500/4500 - 15s - loss: 0.4344 - accuracy: 0.7934 - val_loss: 0.5240 - val_accuracy: 0.7470\n",
            "Epoch 25/50\n",
            "4500/4500 - 15s - loss: 0.4340 - accuracy: 0.7941 - val_loss: 0.5174 - val_accuracy: 0.7511\n",
            "Epoch 26/50\n",
            "4500/4500 - 16s - loss: 0.4347 - accuracy: 0.7928 - val_loss: 0.5160 - val_accuracy: 0.7501\n",
            "Epoch 27/50\n",
            "4500/4500 - 15s - loss: 0.4324 - accuracy: 0.7944 - val_loss: 0.5175 - val_accuracy: 0.7508\n",
            "Epoch 28/50\n",
            "4500/4500 - 15s - loss: 0.4310 - accuracy: 0.7952 - val_loss: 0.5204 - val_accuracy: 0.7501\n",
            "Epoch 29/50\n",
            "4500/4500 - 15s - loss: 0.4319 - accuracy: 0.7936 - val_loss: 0.5138 - val_accuracy: 0.7490\n",
            "Epoch 30/50\n",
            "4500/4500 - 15s - loss: 0.4301 - accuracy: 0.7960 - val_loss: 0.5190 - val_accuracy: 0.7497\n",
            "Epoch 31/50\n",
            "4500/4500 - 15s - loss: 0.4297 - accuracy: 0.7950 - val_loss: 0.5187 - val_accuracy: 0.7526\n",
            "Epoch 32/50\n",
            "4500/4500 - 15s - loss: 0.4288 - accuracy: 0.7975 - val_loss: 0.5187 - val_accuracy: 0.7482\n",
            "Epoch 33/50\n",
            "4500/4500 - 16s - loss: 0.4299 - accuracy: 0.7963 - val_loss: 0.5222 - val_accuracy: 0.7504\n",
            "Epoch 34/50\n",
            "4500/4500 - 15s - loss: 0.4289 - accuracy: 0.7959 - val_loss: 0.5160 - val_accuracy: 0.7496\n",
            "Epoch 35/50\n",
            "4500/4500 - 16s - loss: 0.4277 - accuracy: 0.7970 - val_loss: 0.5191 - val_accuracy: 0.7498\n",
            "Epoch 36/50\n",
            "4500/4500 - 15s - loss: 0.4285 - accuracy: 0.7958 - val_loss: 0.5202 - val_accuracy: 0.7477\n",
            "Epoch 37/50\n",
            "4500/4500 - 16s - loss: 0.4262 - accuracy: 0.7972 - val_loss: 0.5222 - val_accuracy: 0.7498\n",
            "Epoch 38/50\n",
            "4500/4500 - 15s - loss: 0.4271 - accuracy: 0.7966 - val_loss: 0.5146 - val_accuracy: 0.7498\n",
            "Epoch 39/50\n",
            "4500/4500 - 15s - loss: 0.4258 - accuracy: 0.7970 - val_loss: 0.5210 - val_accuracy: 0.7497\n",
            "Epoch 40/50\n",
            "4500/4500 - 15s - loss: 0.4253 - accuracy: 0.7988 - val_loss: 0.5218 - val_accuracy: 0.7487\n",
            "Epoch 41/50\n",
            "4500/4500 - 15s - loss: 0.4262 - accuracy: 0.7976 - val_loss: 0.5159 - val_accuracy: 0.7504\n",
            "Epoch 42/50\n",
            "4500/4500 - 16s - loss: 0.4278 - accuracy: 0.7970 - val_loss: 0.5242 - val_accuracy: 0.7499\n",
            "Epoch 43/50\n",
            "4500/4500 - 15s - loss: 0.4248 - accuracy: 0.7990 - val_loss: 0.5209 - val_accuracy: 0.7486\n",
            "Epoch 44/50\n",
            "4500/4500 - 15s - loss: 0.4241 - accuracy: 0.7999 - val_loss: 0.5206 - val_accuracy: 0.7473\n",
            "Epoch 45/50\n",
            "4500/4500 - 15s - loss: 0.4237 - accuracy: 0.7996 - val_loss: 0.5174 - val_accuracy: 0.7470\n",
            "Epoch 46/50\n",
            "4500/4500 - 15s - loss: 0.4241 - accuracy: 0.7988 - val_loss: 0.5206 - val_accuracy: 0.7525\n",
            "Epoch 47/50\n",
            "4500/4500 - 15s - loss: 0.4227 - accuracy: 0.7997 - val_loss: 0.5174 - val_accuracy: 0.7494\n",
            "Epoch 48/50\n",
            "4500/4500 - 15s - loss: 0.4246 - accuracy: 0.7982 - val_loss: 0.5209 - val_accuracy: 0.7453\n",
            "Epoch 49/50\n",
            "4500/4500 - 15s - loss: 0.4248 - accuracy: 0.7989 - val_loss: 0.5271 - val_accuracy: 0.7461\n",
            "Epoch 50/50\n",
            "4500/4500 - 15s - loss: 0.4220 - accuracy: 0.8009 - val_loss: 0.5219 - val_accuracy: 0.7455\n",
            "Training Complete\n"
          ],
          "name": "stdout"
        }
      ]
    },
    {
      "cell_type": "code",
      "metadata": {
        "id": "qxju4ItJKO8F",
        "outputId": "53c12f85-788d-45e9-9dbc-82691089111d",
        "colab": {
          "base_uri": "https://localhost:8080/",
          "height": 609
        }
      },
      "source": [
        "import matplotlib.image  as mpimg\n",
        "import matplotlib.pyplot as plt\n",
        "\n",
        "#-----------------------------------------------------------\n",
        "# Retrieve a list of list results on training and test data\n",
        "# sets for each training epoch\n",
        "#-----------------------------------------------------------\n",
        "acc=history.history['accuracy']\n",
        "val_acc=history.history['val_accuracy']\n",
        "loss=history.history['loss']\n",
        "val_loss=history.history['val_loss']\n",
        "\n",
        "epochs=range(len(acc)) # Get number of epochs\n",
        "\n",
        "#------------------------------------------------\n",
        "# Plot training and validation accuracy per epoch\n",
        "#------------------------------------------------\n",
        "plt.plot(epochs, acc, 'r')\n",
        "plt.plot(epochs, val_acc, 'b')\n",
        "plt.title('Training and validation accuracy')\n",
        "plt.xlabel(\"Epochs\")\n",
        "plt.ylabel(\"Accuracy\")\n",
        "plt.legend([\"Accuracy\", \"Validation Accuracy\"])\n",
        "\n",
        "plt.figure()\n",
        "\n",
        "#------------------------------------------------\n",
        "# Plot training and validation loss per epoch\n",
        "#------------------------------------------------\n",
        "plt.plot(epochs, loss, 'r')\n",
        "plt.plot(epochs, val_loss, 'b')\n",
        "plt.title('Training and validation loss')\n",
        "plt.xlabel(\"Epochs\")\n",
        "plt.ylabel(\"Loss\")\n",
        "plt.legend([\"Loss\", \"Validation Loss\"])\n",
        "\n",
        "plt.figure()\n",
        "\n",
        "\n",
        "# Expected Output\n",
        "# A chart where the validation loss does not increase sharply!"
      ],
      "execution_count": 13,
      "outputs": [
        {
          "output_type": "execute_result",
          "data": {
            "text/plain": [
              "<Figure size 432x288 with 0 Axes>"
            ]
          },
          "metadata": {
            "tags": []
          },
          "execution_count": 13
        },
        {
          "output_type": "display_data",
          "data": {
            "image/png": "[encoded data removed]",
            "text/plain": [
              "<Figure size 432x288 with 1 Axes>"
            ]
          },
          "metadata": {
            "tags": [],
            "needs_background": "light"
          }
        },
        {
          "output_type": "display_data",
          "data": {
            "image/png": "[encoded data removed]",
            "text/plain": [
              "<Figure size 432x288 with 1 Axes>"
            ]
          },
          "metadata": {
            "tags": [],
            "needs_background": "light"
          }
        },
        {
          "output_type": "display_data",
          "data": {
            "text/plain": [
              "<Figure size 432x288 with 0 Axes>"
            ]
          },
          "metadata": {
            "tags": []
          }
        }
      ]
    }
  ]
}