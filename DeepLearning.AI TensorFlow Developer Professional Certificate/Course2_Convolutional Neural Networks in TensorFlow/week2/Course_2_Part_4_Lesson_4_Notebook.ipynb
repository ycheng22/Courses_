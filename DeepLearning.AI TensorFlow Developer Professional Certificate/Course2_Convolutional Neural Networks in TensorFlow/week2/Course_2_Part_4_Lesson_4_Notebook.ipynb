{
  "nbformat": 4,
  "nbformat_minor": 0,
  "metadata": {
    "accelerator": "GPU",
    "colab": {
      "name": "Course 2 - Part 4 - Lesson 4 - Notebook.ipynb",
      "provenance": [],
      "collapsed_sections": [],
      "toc_visible": true
    },
    "kernelspec": {
      "display_name": "Python 3",
      "name": "python3"
    }
  },
  "cells": [
    {
      "cell_type": "markdown",
      "metadata": {
        "id": "rX8mhOLljYeM"
      },
      "source": [
        "##### Copyright 2019 The TensorFlow Authors."
      ]
    },
    {
      "cell_type": "code",
      "metadata": {
        "cellView": "form",
        "id": "BZSlp3DAjdYf"
      },
      "source": [
        "#@title Licensed under the Apache License, Version 2.0 (the \"License\");\n",
        "# you may not use this file except in compliance with the License.\n",
        "# You may obtain a copy of the License at\n",
        "#\n",
        "# https://www.apache.org/licenses/LICENSE-2.0\n",
        "#\n",
        "# Unless required by applicable law or agreed to in writing, software\n",
        "# distributed under the License is distributed on an \"AS IS\" BASIS,\n",
        "# WITHOUT WARRANTIES OR CONDITIONS OF ANY KIND, either express or implied.\n",
        "# See the License for the specific language governing permissions and\n",
        "# limitations under the License."
      ],
      "execution_count": null,
      "outputs": []
    },
    {
      "cell_type": "code",
      "metadata": {
        "id": "RXZT2UsyIVe_",
        "outputId": "5451ed45-297a-41cb-daf6-fe275fa98227",
        "colab": {
          "base_uri": "https://localhost:8080/"
        }
      },
      "source": [
        "!wget --no-check-certificate \\\n",
        "    https://storage.googleapis.com/laurencemoroney-blog.appspot.com/horse-or-human.zip \\\n",
        "    -O /tmp/horse-or-human.zip\n",
        "\n",
        "!wget --no-check-certificate \\\n",
        "    https://storage.googleapis.com/laurencemoroney-blog.appspot.com/validation-horse-or-human.zip \\\n",
        "    -O /tmp/validation-horse-or-human.zip\n",
        "  \n",
        "import os\n",
        "import zipfile\n",
        "\n",
        "local_zip = '/tmp/horse-or-human.zip'\n",
        "zip_ref = zipfile.ZipFile(local_zip, 'r')\n",
        "zip_ref.extractall('/tmp/horse-or-human')\n",
        "local_zip = '/tmp/validation-horse-or-human.zip'\n",
        "zip_ref = zipfile.ZipFile(local_zip, 'r')\n",
        "zip_ref.extractall('/tmp/validation-horse-or-human')\n",
        "zip_ref.close()\n",
        "# Directory with our training horse pictures\n",
        "train_horse_dir = os.path.join('/tmp/horse-or-human/horses')\n",
        "\n",
        "# Directory with our training human pictures\n",
        "train_human_dir = os.path.join('/tmp/horse-or-human/humans')\n",
        "\n",
        "# Directory with our training horse pictures\n",
        "validation_horse_dir = os.path.join('/tmp/validation-horse-or-human/horses')\n",
        "\n",
        "# Directory with our training human pictures\n",
        "validation_human_dir = os.path.join('/tmp/validation-horse-or-human/humans')"
      ],
      "execution_count": 5,
      "outputs": [
        {
          "output_type": "stream",
          "text": [
            "--2020-11-03 16:01:49--  https://storage.googleapis.com/laurencemoroney-blog.appspot.com/horse-or-human.zip\n",
            "Resolving storage.googleapis.com (storage.googleapis.com)... 172.217.212.128, 172.217.214.128, 172.253.119.128, ...\n",
            "Connecting to storage.googleapis.com (storage.googleapis.com)|172.217.212.128|:443... connected.\n",
            "HTTP request sent, awaiting response... 200 OK\n",
            "Length: 149574867 (143M) [application/zip]\n",
            "Saving to: ‘/tmp/horse-or-human.zip’\n",
            "\n",
            "/tmp/horse-or-human 100%[===================>] 142.65M  77.8MB/s    in 1.8s    \n",
            "\n",
            "2020-11-03 16:01:51 (77.8 MB/s) - ‘/tmp/horse-or-human.zip’ saved [149574867/149574867]\n",
            "\n",
            "--2020-11-03 16:01:51--  https://storage.googleapis.com/laurencemoroney-blog.appspot.com/validation-horse-or-human.zip\n",
            "Resolving storage.googleapis.com (storage.googleapis.com)... 172.217.212.128, 172.217.214.128, 172.253.114.128, ...\n",
            "Connecting to storage.googleapis.com (storage.googleapis.com)|172.217.212.128|:443... connected.\n",
            "HTTP request sent, awaiting response... 200 OK\n",
            "Length: 11480187 (11M) [application/zip]\n",
            "Saving to: ‘/tmp/validation-horse-or-human.zip’\n",
            "\n",
            "/tmp/validation-hor 100%[===================>]  10.95M  --.-KB/s    in 0.06s   \n",
            "\n",
            "2020-11-03 16:01:51 (180 MB/s) - ‘/tmp/validation-horse-or-human.zip’ saved [11480187/11480187]\n",
            "\n"
          ],
          "name": "stdout"
        }
      ]
    },
    {
      "cell_type": "markdown",
      "metadata": {
        "id": "5oqBkNBJmtUv"
      },
      "source": [
        "## Building a Small Model from Scratch\n",
        "\n",
        "But before we continue, let's start defining the model:\n",
        "\n",
        "Step 1 will be to import tensorflow."
      ]
    },
    {
      "cell_type": "code",
      "metadata": {
        "id": "qvfZg3LQbD-5"
      },
      "source": [
        "import tensorflow as tf"
      ],
      "execution_count": 1,
      "outputs": []
    },
    {
      "cell_type": "markdown",
      "metadata": {
        "id": "BnhYCP4tdqjC"
      },
      "source": [
        "We then add convolutional layers as in the previous example, and flatten the final result to feed into the densely connected layers."
      ]
    },
    {
      "cell_type": "markdown",
      "metadata": {
        "id": "gokG5HKpdtzm"
      },
      "source": [
        "Finally we add the densely connected layers. \n",
        "\n",
        "Note that because we are facing a two-class classification problem, i.e. a *binary classification problem*, we will end our network with a [*sigmoid* activation](https://wikipedia.org/wiki/Sigmoid_function), so that the output of our network will be a single scalar between 0 and 1, encoding the probability that the current image is class 1 (as opposed to class 0)."
      ]
    },
    {
      "cell_type": "code",
      "metadata": {
        "id": "PixZ2s5QbYQ3"
      },
      "source": [
        "model = tf.keras.models.Sequential([\n",
        "    # Note the input shape is the desired size of the image 300x300 with 3 bytes color\n",
        "    # This is the first convolution\n",
        "    tf.keras.layers.Conv2D(16, (3,3), activation='relu', input_shape=(300, 300, 3)),\n",
        "    tf.keras.layers.MaxPooling2D(2, 2),\n",
        "    # The second convolution\n",
        "    tf.keras.layers.Conv2D(32, (3,3), activation='relu'),\n",
        "    tf.keras.layers.MaxPooling2D(2,2),\n",
        "    # The third convolution\n",
        "    tf.keras.layers.Conv2D(64, (3,3), activation='relu'),\n",
        "    tf.keras.layers.MaxPooling2D(2,2),\n",
        "    # The fourth convolution\n",
        "    tf.keras.layers.Conv2D(64, (3,3), activation='relu'),\n",
        "    tf.keras.layers.MaxPooling2D(2,2),\n",
        "    # The fifth convolution\n",
        "    tf.keras.layers.Conv2D(64, (3,3), activation='relu'),\n",
        "    tf.keras.layers.MaxPooling2D(2,2),\n",
        "    # Flatten the results to feed into a DNN\n",
        "    tf.keras.layers.Flatten(),\n",
        "    # 512 neuron hidden layer\n",
        "    tf.keras.layers.Dense(512, activation='relu'),\n",
        "    # Only 1 output neuron. It will contain a value from 0-1 where 0 for 1 class ('horses') and 1 for the other ('humans')\n",
        "    tf.keras.layers.Dense(1, activation='sigmoid')\n",
        "])"
      ],
      "execution_count": 2,
      "outputs": []
    },
    {
      "cell_type": "code",
      "metadata": {
        "id": "8DHWhFP_uhq3"
      },
      "source": [
        "from tensorflow.keras.optimizers import RMSprop\n",
        "\n",
        "model.compile(loss='binary_crossentropy',\n",
        "              optimizer=RMSprop(lr=1e-4),\n",
        "              metrics=['accuracy'])"
      ],
      "execution_count": 3,
      "outputs": []
    },
    {
      "cell_type": "code",
      "metadata": {
        "id": "ClebU9NJg99G",
        "outputId": "3a298a6f-8e45-40b2-89e7-fbaf4b97a0e5",
        "colab": {
          "base_uri": "https://localhost:8080/"
        }
      },
      "source": [
        "from tensorflow.keras.preprocessing.image import ImageDataGenerator\n",
        "\n",
        "# All images will be rescaled by 1./255\n",
        "train_datagen = ImageDataGenerator(\n",
        "      rescale=1./255,\n",
        "      rotation_range=40,\n",
        "      width_shift_range=0.2,\n",
        "      height_shift_range=0.2,\n",
        "      shear_range=0.2,\n",
        "      zoom_range=0.2,\n",
        "      horizontal_flip=True,\n",
        "      fill_mode='nearest')\n",
        "\n",
        "validation_datagen = ImageDataGenerator(rescale=1/255)\n",
        "\n",
        "# Flow training images in batches of 128 using train_datagen generator\n",
        "train_generator = train_datagen.flow_from_directory(\n",
        "        '/tmp/horse-or-human/',  # This is the source directory for training images\n",
        "        target_size=(300, 300),  # All images will be resized to 150x150\n",
        "        batch_size=128,\n",
        "        # Since we use binary_crossentropy loss, we need binary labels\n",
        "        class_mode='binary')\n",
        "\n",
        "# Flow training images in batches of 128 using train_datagen generator\n",
        "validation_generator = validation_datagen.flow_from_directory(\n",
        "        '/tmp/validation-horse-or-human/',  # This is the source directory for training images\n",
        "        target_size=(300, 300),  # All images will be resized to 150x150\n",
        "        batch_size=32,\n",
        "        # Since we use binary_crossentropy loss, we need binary labels\n",
        "        class_mode='binary')"
      ],
      "execution_count": 6,
      "outputs": [
        {
          "output_type": "stream",
          "text": [
            "Found 1027 images belonging to 2 classes.\n",
            "Found 256 images belonging to 2 classes.\n"
          ],
          "name": "stdout"
        }
      ]
    },
    {
      "cell_type": "code",
      "metadata": {
        "id": "Fb1_lgobv81m",
        "outputId": "863fb700-be22-48be-9a0b-4e26ebc4c32d",
        "colab": {
          "base_uri": "https://localhost:8080/"
        }
      },
      "source": [
        "history = model.fit(\n",
        "      train_generator,\n",
        "      steps_per_epoch=8,  \n",
        "      epochs=100,\n",
        "      verbose=1,\n",
        "      validation_data = validation_generator,\n",
        "      validation_steps=8)"
      ],
      "execution_count": 7,
      "outputs": [
        {
          "output_type": "stream",
          "text": [
            "Epoch 1/100\n",
            "2/8 [======>.......................] - ETA: 0s - loss: 0.6868 - accuracy: 0.4844WARNING:tensorflow:Callbacks method `on_train_batch_end` is slow compared to the batch time (batch time: 0.0883s vs `on_train_batch_end` time: 0.1588s). Check your callbacks.\n",
            "8/8 [==============================] - 18s 2s/step - loss: 0.6928 - accuracy: 0.5139 - val_loss: 0.6663 - val_accuracy: 0.5000\n",
            "Epoch 2/100\n",
            "8/8 [==============================] - 21s 3s/step - loss: 0.6808 - accuracy: 0.5907 - val_loss: 0.6713 - val_accuracy: 0.5000\n",
            "Epoch 3/100\n",
            "8/8 [==============================] - 21s 3s/step - loss: 0.6935 - accuracy: 0.5462 - val_loss: 0.6358 - val_accuracy: 0.8477\n",
            "Epoch 4/100\n",
            "8/8 [==============================] - 21s 3s/step - loss: 0.6734 - accuracy: 0.5918 - val_loss: 0.6571 - val_accuracy: 0.5117\n",
            "Epoch 5/100\n",
            "8/8 [==============================] - 21s 3s/step - loss: 0.6648 - accuracy: 0.6440 - val_loss: 0.6079 - val_accuracy: 0.7617\n",
            "Epoch 6/100\n",
            "8/8 [==============================] - 21s 3s/step - loss: 0.6568 - accuracy: 0.6663 - val_loss: 0.6260 - val_accuracy: 0.5547\n",
            "Epoch 7/100\n",
            "8/8 [==============================] - 21s 3s/step - loss: 0.6352 - accuracy: 0.6796 - val_loss: 0.5313 - val_accuracy: 0.7695\n",
            "Epoch 8/100\n",
            "8/8 [==============================] - 24s 3s/step - loss: 0.6412 - accuracy: 0.6318 - val_loss: 0.5215 - val_accuracy: 0.7852\n",
            "Epoch 9/100\n",
            "8/8 [==============================] - 21s 3s/step - loss: 0.6050 - accuracy: 0.7408 - val_loss: 0.5337 - val_accuracy: 0.7148\n",
            "Epoch 10/100\n",
            "8/8 [==============================] - 21s 3s/step - loss: 0.6191 - accuracy: 0.6685 - val_loss: 0.6153 - val_accuracy: 0.6367\n",
            "Epoch 11/100\n",
            "8/8 [==============================] - 24s 3s/step - loss: 0.5798 - accuracy: 0.7264 - val_loss: 0.5623 - val_accuracy: 0.6875\n",
            "Epoch 12/100\n",
            "8/8 [==============================] - 24s 3s/step - loss: 0.5724 - accuracy: 0.7141 - val_loss: 0.5903 - val_accuracy: 0.6836\n",
            "Epoch 13/100\n",
            "8/8 [==============================] - 21s 3s/step - loss: 0.6192 - accuracy: 0.7041 - val_loss: 0.5815 - val_accuracy: 0.7031\n",
            "Epoch 14/100\n",
            "8/8 [==============================] - 21s 3s/step - loss: 0.5406 - accuracy: 0.7608 - val_loss: 0.6035 - val_accuracy: 0.7227\n",
            "Epoch 15/100\n",
            "8/8 [==============================] - 21s 3s/step - loss: 0.5066 - accuracy: 0.7642 - val_loss: 0.5011 - val_accuracy: 0.7734\n",
            "Epoch 16/100\n",
            "8/8 [==============================] - 24s 3s/step - loss: 0.4796 - accuracy: 0.7753 - val_loss: 0.6704 - val_accuracy: 0.7266\n",
            "Epoch 17/100\n",
            "8/8 [==============================] - 21s 3s/step - loss: 0.5019 - accuracy: 0.7408 - val_loss: 0.6673 - val_accuracy: 0.7227\n",
            "Epoch 18/100\n",
            "8/8 [==============================] - 21s 3s/step - loss: 0.4540 - accuracy: 0.7942 - val_loss: 0.5553 - val_accuracy: 0.7891\n",
            "Epoch 19/100\n",
            "8/8 [==============================] - 21s 3s/step - loss: 0.4937 - accuracy: 0.7508 - val_loss: 0.7133 - val_accuracy: 0.7305\n",
            "Epoch 20/100\n",
            "8/8 [==============================] - 21s 3s/step - loss: 0.4761 - accuracy: 0.7842 - val_loss: 0.8576 - val_accuracy: 0.7188\n",
            "Epoch 21/100\n",
            "8/8 [==============================] - 21s 3s/step - loss: 0.4454 - accuracy: 0.7864 - val_loss: 1.0380 - val_accuracy: 0.6758\n",
            "Epoch 22/100\n",
            "8/8 [==============================] - 23s 3s/step - loss: 0.4207 - accuracy: 0.8057 - val_loss: 0.9614 - val_accuracy: 0.7109\n",
            "Epoch 23/100\n",
            "8/8 [==============================] - 23s 3s/step - loss: 0.4375 - accuracy: 0.7822 - val_loss: 0.8465 - val_accuracy: 0.7188\n",
            "Epoch 24/100\n",
            "8/8 [==============================] - 24s 3s/step - loss: 0.3956 - accuracy: 0.8309 - val_loss: 1.4005 - val_accuracy: 0.6406\n",
            "Epoch 25/100\n",
            "8/8 [==============================] - 20s 3s/step - loss: 0.4226 - accuracy: 0.8098 - val_loss: 1.9933 - val_accuracy: 0.5547\n",
            "Epoch 26/100\n",
            "8/8 [==============================] - 21s 3s/step - loss: 0.4420 - accuracy: 0.7909 - val_loss: 1.2168 - val_accuracy: 0.6680\n",
            "Epoch 27/100\n",
            "8/8 [==============================] - 21s 3s/step - loss: 0.3812 - accuracy: 0.8365 - val_loss: 1.4612 - val_accuracy: 0.6250\n",
            "Epoch 28/100\n",
            "8/8 [==============================] - 23s 3s/step - loss: 0.3487 - accuracy: 0.8467 - val_loss: 1.5479 - val_accuracy: 0.6406\n",
            "Epoch 29/100\n",
            "8/8 [==============================] - 21s 3s/step - loss: 0.4439 - accuracy: 0.7875 - val_loss: 1.1621 - val_accuracy: 0.6641\n",
            "Epoch 30/100\n",
            "8/8 [==============================] - 23s 3s/step - loss: 0.3399 - accuracy: 0.8535 - val_loss: 1.0526 - val_accuracy: 0.7188\n",
            "Epoch 31/100\n",
            "8/8 [==============================] - 21s 3s/step - loss: 0.3440 - accuracy: 0.8576 - val_loss: 1.5117 - val_accuracy: 0.6484\n",
            "Epoch 32/100\n",
            "8/8 [==============================] - 21s 3s/step - loss: 0.3225 - accuracy: 0.8665 - val_loss: 1.3003 - val_accuracy: 0.6875\n",
            "Epoch 33/100\n",
            "8/8 [==============================] - 21s 3s/step - loss: 0.3328 - accuracy: 0.8443 - val_loss: 1.9465 - val_accuracy: 0.6055\n",
            "Epoch 34/100\n",
            "8/8 [==============================] - 24s 3s/step - loss: 0.3324 - accuracy: 0.8621 - val_loss: 1.9376 - val_accuracy: 0.6094\n",
            "Epoch 35/100\n",
            "8/8 [==============================] - 21s 3s/step - loss: 0.2960 - accuracy: 0.8776 - val_loss: 0.8918 - val_accuracy: 0.7695\n",
            "Epoch 36/100\n",
            "8/8 [==============================] - 23s 3s/step - loss: 0.3365 - accuracy: 0.8486 - val_loss: 1.4842 - val_accuracy: 0.6758\n",
            "Epoch 37/100\n",
            "8/8 [==============================] - 21s 3s/step - loss: 0.3387 - accuracy: 0.8543 - val_loss: 1.5607 - val_accuracy: 0.6562\n",
            "Epoch 38/100\n",
            "8/8 [==============================] - 23s 3s/step - loss: 0.2542 - accuracy: 0.8945 - val_loss: 2.2004 - val_accuracy: 0.6094\n",
            "Epoch 39/100\n",
            "8/8 [==============================] - 21s 3s/step - loss: 0.3006 - accuracy: 0.8710 - val_loss: 1.5206 - val_accuracy: 0.6680\n",
            "Epoch 40/100\n",
            "8/8 [==============================] - 23s 3s/step - loss: 0.2504 - accuracy: 0.9014 - val_loss: 1.8099 - val_accuracy: 0.6641\n",
            "Epoch 41/100\n",
            "8/8 [==============================] - 20s 3s/step - loss: 0.2990 - accuracy: 0.8799 - val_loss: 1.9211 - val_accuracy: 0.6289\n",
            "Epoch 42/100\n",
            "8/8 [==============================] - 20s 3s/step - loss: 0.2547 - accuracy: 0.8966 - val_loss: 3.2389 - val_accuracy: 0.5508\n",
            "Epoch 43/100\n",
            "8/8 [==============================] - 21s 3s/step - loss: 0.2800 - accuracy: 0.8776 - val_loss: 2.0265 - val_accuracy: 0.6484\n",
            "Epoch 44/100\n",
            "8/8 [==============================] - 21s 3s/step - loss: 0.3130 - accuracy: 0.8610 - val_loss: 1.5470 - val_accuracy: 0.6680\n",
            "Epoch 45/100\n",
            "8/8 [==============================] - 21s 3s/step - loss: 0.2949 - accuracy: 0.8687 - val_loss: 1.5779 - val_accuracy: 0.6758\n",
            "Epoch 46/100\n",
            "8/8 [==============================] - 21s 3s/step - loss: 0.2473 - accuracy: 0.8954 - val_loss: 1.9047 - val_accuracy: 0.6602\n",
            "Epoch 47/100\n",
            "8/8 [==============================] - 21s 3s/step - loss: 0.2111 - accuracy: 0.9299 - val_loss: 0.6021 - val_accuracy: 0.8516\n",
            "Epoch 48/100\n",
            "8/8 [==============================] - 21s 3s/step - loss: 0.3095 - accuracy: 0.8665 - val_loss: 1.8612 - val_accuracy: 0.6680\n",
            "Epoch 49/100\n",
            "8/8 [==============================] - 21s 3s/step - loss: 0.2290 - accuracy: 0.9121 - val_loss: 1.9889 - val_accuracy: 0.6719\n",
            "Epoch 50/100\n",
            "8/8 [==============================] - 21s 3s/step - loss: 0.2925 - accuracy: 0.8776 - val_loss: 1.8363 - val_accuracy: 0.6797\n",
            "Epoch 51/100\n",
            "8/8 [==============================] - 24s 3s/step - loss: 0.2283 - accuracy: 0.9021 - val_loss: 2.2369 - val_accuracy: 0.6484\n",
            "Epoch 52/100\n",
            "8/8 [==============================] - 21s 3s/step - loss: 0.2169 - accuracy: 0.9032 - val_loss: 1.5297 - val_accuracy: 0.7148\n",
            "Epoch 53/100\n",
            "8/8 [==============================] - 21s 3s/step - loss: 0.2172 - accuracy: 0.9166 - val_loss: 1.8627 - val_accuracy: 0.6719\n",
            "Epoch 54/100\n",
            "8/8 [==============================] - 23s 3s/step - loss: 0.2535 - accuracy: 0.8945 - val_loss: 1.9845 - val_accuracy: 0.6641\n",
            "Epoch 55/100\n",
            "8/8 [==============================] - 21s 3s/step - loss: 0.3298 - accuracy: 0.8598 - val_loss: 1.4737 - val_accuracy: 0.6953\n",
            "Epoch 56/100\n",
            "8/8 [==============================] - 21s 3s/step - loss: 0.2054 - accuracy: 0.9321 - val_loss: 2.1922 - val_accuracy: 0.6445\n",
            "Epoch 57/100\n",
            "8/8 [==============================] - 21s 3s/step - loss: 0.2193 - accuracy: 0.9077 - val_loss: 1.6587 - val_accuracy: 0.7070\n",
            "Epoch 58/100\n",
            "8/8 [==============================] - 21s 3s/step - loss: 0.2179 - accuracy: 0.9088 - val_loss: 1.6340 - val_accuracy: 0.7109\n",
            "Epoch 59/100\n",
            "8/8 [==============================] - 24s 3s/step - loss: 0.2444 - accuracy: 0.9043 - val_loss: 1.3626 - val_accuracy: 0.7305\n",
            "Epoch 60/100\n",
            "8/8 [==============================] - 21s 3s/step - loss: 0.2144 - accuracy: 0.9143 - val_loss: 1.7488 - val_accuracy: 0.7070\n",
            "Epoch 61/100\n",
            "8/8 [==============================] - 21s 3s/step - loss: 0.1701 - accuracy: 0.9422 - val_loss: 1.5998 - val_accuracy: 0.7266\n",
            "Epoch 62/100\n",
            "8/8 [==============================] - 21s 3s/step - loss: 0.2670 - accuracy: 0.8943 - val_loss: 2.0857 - val_accuracy: 0.6641\n",
            "Epoch 63/100\n",
            "8/8 [==============================] - 21s 3s/step - loss: 0.1988 - accuracy: 0.9155 - val_loss: 1.6093 - val_accuracy: 0.7266\n",
            "Epoch 64/100\n",
            "8/8 [==============================] - 23s 3s/step - loss: 0.2155 - accuracy: 0.9092 - val_loss: 2.1306 - val_accuracy: 0.6641\n",
            "Epoch 65/100\n",
            "8/8 [==============================] - 21s 3s/step - loss: 0.2291 - accuracy: 0.9088 - val_loss: 2.5357 - val_accuracy: 0.6484\n",
            "Epoch 66/100\n",
            "8/8 [==============================] - 21s 3s/step - loss: 0.1791 - accuracy: 0.9277 - val_loss: 2.4131 - val_accuracy: 0.6641\n",
            "Epoch 67/100\n",
            "8/8 [==============================] - 21s 3s/step - loss: 0.1754 - accuracy: 0.9266 - val_loss: 1.7573 - val_accuracy: 0.7109\n",
            "Epoch 68/100\n",
            "8/8 [==============================] - 21s 3s/step - loss: 0.2004 - accuracy: 0.9143 - val_loss: 1.9404 - val_accuracy: 0.6836\n",
            "Epoch 69/100\n",
            "8/8 [==============================] - 24s 3s/step - loss: 0.2227 - accuracy: 0.9088 - val_loss: 2.2616 - val_accuracy: 0.6680\n",
            "Epoch 70/100\n",
            "8/8 [==============================] - 21s 3s/step - loss: 0.1520 - accuracy: 0.9444 - val_loss: 2.7041 - val_accuracy: 0.6562\n",
            "Epoch 71/100\n",
            "8/8 [==============================] - 23s 3s/step - loss: 0.2038 - accuracy: 0.9189 - val_loss: 2.1238 - val_accuracy: 0.6836\n",
            "Epoch 72/100\n",
            "8/8 [==============================] - 24s 3s/step - loss: 0.2069 - accuracy: 0.9099 - val_loss: 1.5354 - val_accuracy: 0.7227\n",
            "Epoch 73/100\n",
            "8/8 [==============================] - 21s 3s/step - loss: 0.1490 - accuracy: 0.9499 - val_loss: 2.3935 - val_accuracy: 0.6602\n",
            "Epoch 74/100\n",
            "8/8 [==============================] - 21s 3s/step - loss: 0.3008 - accuracy: 0.8743 - val_loss: 1.7210 - val_accuracy: 0.6992\n",
            "Epoch 75/100\n",
            "8/8 [==============================] - 21s 3s/step - loss: 0.1571 - accuracy: 0.9444 - val_loss: 2.0766 - val_accuracy: 0.6875\n",
            "Epoch 76/100\n",
            "8/8 [==============================] - 23s 3s/step - loss: 0.1547 - accuracy: 0.9365 - val_loss: 2.8300 - val_accuracy: 0.6445\n",
            "Epoch 77/100\n",
            "8/8 [==============================] - 23s 3s/step - loss: 0.2107 - accuracy: 0.9092 - val_loss: 2.2347 - val_accuracy: 0.6758\n",
            "Epoch 78/100\n",
            "8/8 [==============================] - 21s 3s/step - loss: 0.1572 - accuracy: 0.9377 - val_loss: 2.6503 - val_accuracy: 0.6602\n",
            "Epoch 79/100\n",
            "8/8 [==============================] - 21s 3s/step - loss: 0.1291 - accuracy: 0.9588 - val_loss: 5.2166 - val_accuracy: 0.5508\n",
            "Epoch 80/100\n",
            "8/8 [==============================] - 21s 3s/step - loss: 0.2258 - accuracy: 0.9077 - val_loss: 2.6064 - val_accuracy: 0.6680\n",
            "Epoch 81/100\n",
            "8/8 [==============================] - 21s 3s/step - loss: 0.1346 - accuracy: 0.9433 - val_loss: 3.0188 - val_accuracy: 0.6523\n",
            "Epoch 82/100\n",
            "8/8 [==============================] - 21s 3s/step - loss: 0.1673 - accuracy: 0.9344 - val_loss: 2.5665 - val_accuracy: 0.6641\n",
            "Epoch 83/100\n",
            "8/8 [==============================] - 21s 3s/step - loss: 0.1820 - accuracy: 0.9344 - val_loss: 1.5545 - val_accuracy: 0.7578\n",
            "Epoch 84/100\n",
            "8/8 [==============================] - 21s 3s/step - loss: 0.2177 - accuracy: 0.9132 - val_loss: 2.4238 - val_accuracy: 0.6602\n",
            "Epoch 85/100\n",
            "8/8 [==============================] - 21s 3s/step - loss: 0.1350 - accuracy: 0.9488 - val_loss: 2.4958 - val_accuracy: 0.6836\n",
            "Epoch 86/100\n",
            "8/8 [==============================] - 21s 3s/step - loss: 0.1222 - accuracy: 0.9588 - val_loss: 2.7625 - val_accuracy: 0.6641\n",
            "Epoch 87/100\n",
            "8/8 [==============================] - 21s 3s/step - loss: 0.1491 - accuracy: 0.9355 - val_loss: 4.1999 - val_accuracy: 0.5781\n",
            "Epoch 88/100\n",
            "8/8 [==============================] - 21s 3s/step - loss: 0.1644 - accuracy: 0.9388 - val_loss: 6.7990 - val_accuracy: 0.5273\n",
            "Epoch 89/100\n",
            "8/8 [==============================] - 23s 3s/step - loss: 0.2225 - accuracy: 0.9131 - val_loss: 2.7501 - val_accuracy: 0.6680\n",
            "Epoch 90/100\n",
            "8/8 [==============================] - 24s 3s/step - loss: 0.1555 - accuracy: 0.9344 - val_loss: 2.2220 - val_accuracy: 0.6914\n",
            "Epoch 91/100\n",
            "8/8 [==============================] - 21s 3s/step - loss: 0.1632 - accuracy: 0.9344 - val_loss: 1.8113 - val_accuracy: 0.7266\n",
            "Epoch 92/100\n",
            "8/8 [==============================] - 20s 3s/step - loss: 0.1044 - accuracy: 0.9666 - val_loss: 2.8631 - val_accuracy: 0.6680\n",
            "Epoch 93/100\n",
            "8/8 [==============================] - 23s 3s/step - loss: 0.1488 - accuracy: 0.9434 - val_loss: 3.3376 - val_accuracy: 0.6523\n",
            "Epoch 94/100\n",
            "8/8 [==============================] - 21s 3s/step - loss: 0.1683 - accuracy: 0.9410 - val_loss: 2.0314 - val_accuracy: 0.7109\n",
            "Epoch 95/100\n",
            "8/8 [==============================] - 21s 3s/step - loss: 0.1509 - accuracy: 0.9388 - val_loss: 1.8538 - val_accuracy: 0.7227\n",
            "Epoch 96/100\n",
            "8/8 [==============================] - 24s 3s/step - loss: 0.1553 - accuracy: 0.9344 - val_loss: 2.2850 - val_accuracy: 0.7148\n",
            "Epoch 97/100\n",
            "8/8 [==============================] - 23s 3s/step - loss: 0.1363 - accuracy: 0.9404 - val_loss: 2.3658 - val_accuracy: 0.6992\n",
            "Epoch 98/100\n",
            "8/8 [==============================] - 21s 3s/step - loss: 0.1442 - accuracy: 0.9455 - val_loss: 4.1148 - val_accuracy: 0.5898\n",
            "Epoch 99/100\n",
            "8/8 [==============================] - 24s 3s/step - loss: 0.1558 - accuracy: 0.9388 - val_loss: 1.8221 - val_accuracy: 0.7344\n",
            "Epoch 100/100\n",
            "8/8 [==============================] - 23s 3s/step - loss: 0.1525 - accuracy: 0.9395 - val_loss: 1.9299 - val_accuracy: 0.7305\n"
          ],
          "name": "stdout"
        }
      ]
    },
    {
      "cell_type": "code",
      "metadata": {
        "id": "7zNPRWOVJdOH",
        "outputId": "7abeed01-0cb0-41d8-e64e-cf0887cb7702",
        "colab": {
          "base_uri": "https://localhost:8080/",
          "height": 545
        }
      },
      "source": [
        "import matplotlib.pyplot as plt\n",
        "acc = history.history['accuracy']\n",
        "val_acc = history.history['val_accuracy']\n",
        "loss = history.history['loss']\n",
        "val_loss = history.history['val_loss']\n",
        "\n",
        "epochs = range(len(acc))\n",
        "\n",
        "plt.plot(epochs, acc, 'r', label='Training accuracy')\n",
        "plt.plot(epochs, val_acc, 'b', label='Validation accuracy')\n",
        "plt.title('Training and validation accuracy')\n",
        "\n",
        "plt.figure()\n",
        "\n",
        "plt.plot(epochs, loss, 'r', label='Training Loss')\n",
        "plt.plot(epochs, val_loss, 'b', label='Validation Loss')\n",
        "plt.title('Training and validation loss')\n",
        "plt.legend()\n",
        "\n",
        "plt.show()"
      ],
      "execution_count": 8,
      "outputs": [
        {
          "output_type": "display_data",
          "data": {
            "image/png": "[encoded data removed]",
            "text/plain": [
              "<Figure size 432x288 with 1 Axes>"
            ]
          },
          "metadata": {
            "tags": [],
            "needs_background": "light"
          }
        },
        {
          "output_type": "display_data",
          "data": {
            "image/png": "[encoded data removed]",
            "text/plain": [
              "<Figure size 432x288 with 1 Axes>"
            ]
          },
          "metadata": {
            "tags": [],
            "needs_background": "light"
          }
        }
      ]
    }
  ]
}