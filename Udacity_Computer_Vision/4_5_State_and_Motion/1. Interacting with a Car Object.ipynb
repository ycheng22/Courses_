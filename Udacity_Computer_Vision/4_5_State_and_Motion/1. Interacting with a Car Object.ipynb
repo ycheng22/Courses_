{
 "cells": [
  {
   "cell_type": "markdown",
   "metadata": {},
   "source": [
    "# Interacting with a Car Object"
   ]
  },
  {
   "cell_type": "markdown",
   "metadata": {},
   "source": [
    "In this notebook, you've been given some of the starting code for creating and interacting with a car object.\n",
    "\n",
    "Your tasks are to:\n",
    "1. Become familiar with this code. \n",
    "    - Know how to create a car object, and how to move and turn that car.\n",
    "2. Constantly visualize.\n",
    "    - To make sure your code is working as expected, frequently call `display_world()` to see the result!\n",
    "3. **Make the car move in a 4x4 square path.** \n",
    "    - If you understand the move and turn functions, you should be able to tell a car to move in a square path. This task is a **TODO** at the end of this notebook.\n",
    "\n",
    "Feel free to change the values of initial variables and add functions as you see fit!\n",
    "\n",
    "And remember, to run a cell in the notebook, press `Shift+Enter`."
   ]
  },
  {
   "cell_type": "code",
   "execution_count": 1,
   "metadata": {
    "tags": []
   },
   "outputs": [],
   "source": [
    "import numpy as np\n",
    "import car\n",
    "\n",
    "%matplotlib inline"
   ]
  },
  {
   "cell_type": "markdown",
   "metadata": {},
   "source": [
    "### Define the initial variables"
   ]
  },
  {
   "cell_type": "code",
   "execution_count": 2,
   "metadata": {
    "tags": []
   },
   "outputs": [],
   "source": [
    "# Create a 2D world of 0's\n",
    "height = 4\n",
    "width = 6\n",
    "world = np.zeros((height, width))\n",
    "\n",
    "# Define the initial car state\n",
    "initial_position = [0, 0] # [y, x] (top-left corner)\n",
    "velocity = [0, 1] # [vy, vx] (moving to the right)\n"
   ]
  },
  {
   "cell_type": "markdown",
   "metadata": {},
   "source": [
    "### Create a car object"
   ]
  },
  {
   "cell_type": "code",
   "execution_count": 3,
   "metadata": {
    "tags": []
   },
   "outputs": [
    {
     "name": "stdout",
     "output_type": "stream",
     "text": [
      "Carla's initial state is: [[0, 0], [0, 1]]\n"
     ]
    }
   ],
   "source": [
    "# Create a car object with these initial params\n",
    "carla = car.Car(initial_position, velocity, world)\n",
    "\n",
    "print('Carla\\'s initial state is: ' + str(carla.state))"
   ]
  },
  {
   "cell_type": "markdown",
   "metadata": {},
   "source": [
    "### Move and track state"
   ]
  },
  {
   "cell_type": "code",
   "execution_count": 4,
   "metadata": {
    "tags": []
   },
   "outputs": [
    {
     "name": "stdout",
     "output_type": "stream",
     "text": [
      "Carla's state is: [[0, 1], [0, 1]]\n"
     ]
    },
    {
     "data": {
      "image/png": "[encoded data removed]",
      "text/plain": [
       "<Figure size 432x288 with 1 Axes>"
      ]
     },
     "metadata": {
      "needs_background": "light"
     },
     "output_type": "display_data"
    }
   ],
   "source": [
    "# Move in the direction of the initial velocity\n",
    "carla.move()\n",
    "\n",
    "# Track the change in state\n",
    "print('Carla\\'s state is: ' + str(carla.state))\n",
    "\n",
    "# Display the world\n",
    "carla.display_world()"
   ]
  },
  {
   "cell_type": "markdown",
   "metadata": {},
   "source": [
    "## TODO: Move in a square path\n",
    "\n",
    "Using the `move()` and `turn_left()` functions, make carla traverse a 4x4 square path.\n",
    "\n",
    "The output should look like:\n",
    "<img src=\"4x4_path.png\" style=\"width: 30%;\">"
   ]
  },
  {
   "cell_type": "code",
   "execution_count": null,
   "metadata": {
    "collapsed": true,
    "jupyter": {
     "outputs_hidden": true
    }
   },
   "outputs": [],
   "source": [
    "## TODO: Make carla traverse a 4x4 square path\n",
    "## Display the result\n"
   ]
  }
 ],
 "metadata": {
  "anaconda-cloud": {},
  "kernelspec": {
   "display_name": "Python 3",
   "language": "python",
   "name": "python3"
  },
  "language_info": {
   "codemirror_mode": {
    "name": "ipython",
    "version": 3
   },
   "file_extension": ".py",
   "mimetype": "text/x-python",
   "name": "python",
   "nbconvert_exporter": "python",
   "pygments_lexer": "ipython3",
   "version": "3.7.4"
  }
 },
 "nbformat": 4,
 "nbformat_minor": 4
}
